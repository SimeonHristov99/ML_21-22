{
  "nbformat": 4,
  "nbformat_minor": 0,
  "metadata": {
    "colab": {
      "name": "Week_05 - Preprocessing.ipynb",
      "provenance": [],
      "collapsed_sections": [],
      "authorship_tag": "ABX9TyMZHy0XFMEbp0mPFzsIvENF",
      "include_colab_link": true
    },
    "kernelspec": {
      "name": "python3",
      "display_name": "Python 3"
    },
    "language_info": {
      "name": "python"
    }
  },
  "cells": [
    {
      "cell_type": "markdown",
      "metadata": {
        "id": "view-in-github",
        "colab_type": "text"
      },
      "source": [
        "<a href=\"https://colab.research.google.com/github/SimeonHristov99/ML_21-22/blob/main/Week_05_Preprocessing.ipynb\" target=\"_parent\"><img src=\"https://colab.research.google.com/assets/colab-badge.svg\" alt=\"Open In Colab\"/></a>"
      ]
    },
    {
      "cell_type": "markdown",
      "source": [
        "# Preprocessing:\n",
        "  \n",
        "1. Drop columns that:\n",
        "  - are a function of the label\n",
        "  - have low variance (they give little information)\n",
        "  - are numeric but have less than 5 unique values\n",
        "  - are categorical with 1 unique value\n",
        "  - are categorical with >= 1000 unique values (high-cardinality column) that cannot be encoded\n",
        "\n",
        "2. Missing values:\n",
        "  - Remove if:\n",
        "    - the missing values are labels\n",
        "    - missing values in column > 20%\n",
        "  - Impute if:\n",
        "    - categorical:\n",
        "      - impute with mode\n",
        "      - impute with new category (if they are equal to or more than the valid samples or if it means something)\n",
        "    - numeric:\n",
        "      - impute with mode\n",
        "      - knn imputation (if samples >= 3000) (use as a last resort)\n",
        "\n",
        "3. Feature transformations:\n",
        "  - categorical:\n",
        "    - OneHotEncoder\n",
        "  - numeric:\n",
        "    - if skewness >= 0.5: log transform once using np.log1p (adds 1 so as to avoid log(0))\n",
        "    - if cyclical: cosine transformation (eg. month: 0 and 11 will be close, but 5 will be on the polar end)\n",
        "    - Goal: make them normally distributed in order to help models perform better.\n",
        "\n",
        "4. Scaling:\n",
        "  - **make sure there are no columns with 1 value**\n",
        "  - generally we scale values so that they have mean of 0 and standard deviation of 1\n"
      ],
      "metadata": {
        "id": "Ru47Yr4RNxrq"
      }
    },
    {
      "cell_type": "markdown",
      "source": [
        "# Analyzing Supply Chain Data\n",
        " - Data: https://www.kaggle.com/datasets/abdelrahmancae/supply-chain-analysis-and-modeling\n",
        " - Type of problem: Multiclass classification.\n",
        " - Goal: Predict the shipment mode."
      ],
      "metadata": {
        "id": "fkjXE9uzDuKp"
      }
    },
    {
      "cell_type": "code",
      "source": [
        "# todo!"
      ],
      "metadata": {
        "id": "je2QjF98moHf"
      },
      "execution_count": null,
      "outputs": []
    },
    {
      "cell_type": "markdown",
      "source": [
        "# For Home\n",
        "\n",
        "Kaggle is a repository with datasets for all kinds of machine learning and data science problems.\n",
        "\n",
        "Take a look at the [Titanic Challenge](https://www.kaggle.com/competitions/titanic/overview). Try to preprocess the data as we did in class. You can create an account if you want to get the dataset and participate in the challenge. If you don't want to create an account, grab the dataset from [our GitHub repo](https://github.com/SimeonHristov99/ML_21-22/tree/main/Week_05%20-%20Data%20Preprocessing)."
      ],
      "metadata": {
        "id": "O1b447CIk18F"
      }
    }
  ]
}