{
  "nbformat": 4,
  "nbformat_minor": 0,
  "metadata": {
    "colab": {
      "name": "pca.ipynb",
      "provenance": [],
      "authorship_tag": "ABX9TyOCt6U8YheyfirdjDjBuVvi",
      "include_colab_link": true
    },
    "kernelspec": {
      "name": "python3",
      "display_name": "Python 3"
    },
    "language_info": {
      "name": "python"
    }
  },
  "cells": [
    {
      "cell_type": "markdown",
      "metadata": {
        "id": "view-in-github",
        "colab_type": "text"
      },
      "source": [
        "<a href=\"https://colab.research.google.com/github/SimeonHristov99/ML_21-22/blob/main/pca.ipynb\" target=\"_parent\"><img src=\"https://colab.research.google.com/assets/colab-badge.svg\" alt=\"Open In Colab\"/></a>"
      ]
    },
    {
      "cell_type": "markdown",
      "source": [
        "# Interview Success Prediction Challenge\n",
        "- Goal: Predict whether a candidate will pass an interview.\n",
        "- Data: https://www.kaggle.com/datasets/vingkan/strategeion-resume-skills\n",
        "- Type: Binary Classififaction\n",
        "> **Note**: This is a synthetic dataset."
      ],
      "metadata": {
        "id": "9wiCJD2N1wOH"
      }
    },
    {
      "cell_type": "markdown",
      "source": [
        "## Imports and Constants"
      ],
      "metadata": {
        "id": "PCefyin918um"
      }
    },
    {
      "cell_type": "code",
      "source": [
        "import numpy as np\n",
        "import pandas as pd\n",
        "import matplotlib.pyplot as plt\n",
        "import seaborn as sns\n",
        "\n",
        "from sklearn.model_selection import train_test_split\n",
        "from sklearn.preprocessing import StandardScaler\n",
        "from sklearn.decomposition import PCA\n",
        "\n",
        "from sklearn.linear_model import LogisticRegression\n",
        "from sklearn.tree import DecisionTreeClassifier\n",
        "from sklearn.ensemble import RandomForestClassifier\n",
        "from sklearn.svm import SVC\n",
        "\n",
        "from sklearn.metrics import log_loss\n",
        "\n",
        "from sklearn.tree import plot_tree\n",
        "from sklearn.metrics import f1_score"
      ],
      "metadata": {
        "id": "a2ygMjZs22_i"
      },
      "execution_count": null,
      "outputs": []
    },
    {
      "cell_type": "code",
      "execution_count": null,
      "metadata": {
        "id": "iKGh0AFQwvsb"
      },
      "outputs": [],
      "source": [
        "FIG_SIZE = (12, 10)\n",
        "DATA_PATH = 'https://raw.githubusercontent.com/SimeonHristov99/ML_21-22/main/Week_10%20-%20Unsupervised%20Learning.%20Dimensionality%20Reduction/data/resumes_development.csv'\n",
        "\n",
        "plt.rc('figure', figsize=FIG_SIZE)\n",
        "pd.set_option('max_columns', None)"
      ]
    },
    {
      "cell_type": "markdown",
      "source": [
        "## Get the data"
      ],
      "metadata": {
        "id": "XYPBlASt3H1L"
      }
    },
    {
      "cell_type": "code",
      "source": [
        "df = pd.read_csv(DATA_PATH)\n",
        "df"
      ],
      "metadata": {
        "id": "jY9YpRTR3JMi"
      },
      "execution_count": null,
      "outputs": []
    },
    {
      "cell_type": "markdown",
      "source": [
        "## Exploratory Data Analysis\n",
        "\n",
        "Since this is a synthetic dataset, we should not draw conclusions when exploring it."
      ],
      "metadata": {
        "id": "iKOsx-kE3nad"
      }
    },
    {
      "cell_type": "code",
      "source": [
        "df.info(verbose=True, show_counts=True)"
      ],
      "metadata": {
        "id": "Vx43tpde3phY"
      },
      "execution_count": null,
      "outputs": []
    },
    {
      "cell_type": "code",
      "source": [
        "df.describe()"
      ],
      "metadata": {
        "id": "2snQQIqX3q8x"
      },
      "execution_count": null,
      "outputs": []
    },
    {
      "cell_type": "code",
      "source": [
        "df.isna().mean().sum()"
      ],
      "metadata": {
        "id": "bLPAhFBz3rCr"
      },
      "execution_count": null,
      "outputs": []
    },
    {
      "cell_type": "code",
      "source": [
        "df['Interview'].value_counts()"
      ],
      "metadata": {
        "id": "QNJANqXs6526"
      },
      "execution_count": null,
      "outputs": []
    },
    {
      "cell_type": "code",
      "source": [
        "for col in df.columns:\n",
        "  unq = df[col].unique()\n",
        "  len_unq = len(unq)\n",
        "\n",
        "  print(f'{col:40} | {len_unq:5} | {unq if len_unq < 15 else \"\"}')"
      ],
      "metadata": {
        "id": "M5szPeGh3rGi"
      },
      "execution_count": null,
      "outputs": []
    },
    {
      "cell_type": "code",
      "source": [
        "for col in ['Unix', 'SQL', 'Leadership', 'AutoCAD']:\n",
        "  fig, ax = plt.subplots(1,2)\n",
        "\n",
        "  ax[0].set_xticks([1, 2])\n",
        "  ax[1].set_xticks([1, 2])\n",
        "\n",
        "  ax1 = sns.histplot(data=df, x=col, hue=\"Interview\", stat=\"probability\", multiple=\"dodge\", ax=ax[0])\n",
        "  ax2 = sns.histplot(data=df, x=col, hue=\"Interview\", stat=\"probability\", multiple=\"fill\", ax=ax[1])\n",
        "\n",
        "  fig.show()"
      ],
      "metadata": {
        "id": "0C1icXDT3rKX"
      },
      "execution_count": null,
      "outputs": []
    },
    {
      "cell_type": "markdown",
      "source": [
        "## Preprocessing"
      ],
      "metadata": {
        "id": "XtVHMm-E3Ju0"
      }
    },
    {
      "cell_type": "code",
      "source": [
        "def preprocess_inputs(df):\n",
        "  df = df.copy()\n",
        "\n",
        "  # Drop the ID column\n",
        "  df = df.drop(['Unnamed: 0'], axis=1)\n",
        "\n",
        "  # Split into X and y\n",
        "  y = df['Interview']\n",
        "  X = df.drop(['Interview'], axis=1)\n",
        "\n",
        "  # Train-test split\n",
        "  X_train, X_test, y_train, y_test = train_test_split(X, y, test_size=0.3)\n",
        "\n",
        "  # Scale data\n",
        "  scaler = StandardScaler()\n",
        "  scaler.fit(X_train)\n",
        "  X_train = pd.DataFrame(scaler.transform(X_train), index=X_train.index, columns=X_train.columns)\n",
        "  X_test = pd.DataFrame(scaler.transform(X_test), index=X_test.index, columns=X_test.columns)\n",
        "\n",
        "  return X_train, X_test, y_train, y_test"
      ],
      "metadata": {
        "id": "n5eqg2BE3LIP"
      },
      "execution_count": null,
      "outputs": []
    },
    {
      "cell_type": "code",
      "source": [
        "X_train, X_test, y_train, y_test = preprocess_inputs(df)\n",
        "X_train"
      ],
      "metadata": {
        "id": "gxCR_btb4e4_"
      },
      "execution_count": null,
      "outputs": []
    },
    {
      "cell_type": "code",
      "source": [
        "y_train.value_counts()"
      ],
      "metadata": {
        "id": "HTEQSk-j7lfU"
      },
      "execution_count": null,
      "outputs": []
    },
    {
      "cell_type": "markdown",
      "source": [
        "## Model building without dimensionality reduction"
      ],
      "metadata": {
        "id": "GQXalEy73Lio"
      }
    },
    {
      "cell_type": "code",
      "source": [
        "models = {\n",
        "    '      Logistic Regression': LogisticRegression(),\n",
        "    ' Decision Tree Classifier': DecisionTreeClassifier(),\n",
        "    ' Random Forest Classifier': RandomForestClassifier(),\n",
        "    'Support Vector Classifier': SVC(probability=True)\n",
        "}"
      ],
      "metadata": {
        "id": "ZZy_QC2L3SeN"
      },
      "execution_count": null,
      "outputs": []
    },
    {
      "cell_type": "code",
      "source": [
        "for name, model in models.items():\n",
        "  model.fit(X_train, y_train)\n",
        "  print(f'{name} trained!')"
      ],
      "metadata": {
        "id": "WGuLu0la8TRv"
      },
      "execution_count": null,
      "outputs": []
    },
    {
      "cell_type": "code",
      "source": [
        "for name, model in models.items():\n",
        "  print(f'{name} | accuracy: {model.score(X_test, y_test):.4f} | log loss: {log_loss(y_test, model.predict_proba(X_test)):.4f} | f1: {f1_score(y_test, model.predict(X_test)):.4f}')"
      ],
      "metadata": {
        "id": "YpuJYMAy8ffp"
      },
      "execution_count": null,
      "outputs": []
    },
    {
      "cell_type": "markdown",
      "source": [
        "## Model building with dimensionality reduction"
      ],
      "metadata": {
        "id": "IUE7qVT63S1N"
      }
    },
    {
      "cell_type": "markdown",
      "source": [
        "- Using all features and just switching the perspective"
      ],
      "metadata": {
        "id": "KzqZenCJAqG9"
      }
    },
    {
      "cell_type": "code",
      "source": [
        "n_components = 222\n",
        "\n",
        "pca = PCA(n_components=n_components)\n",
        "pca.fit(X_train)\n",
        "\n",
        "X_train_reduced = pd.DataFrame(pca.transform(X_train), index=X_train.index, columns=[ f'PC {i}' for i in range(1, n_components + 1)])\n",
        "X_test_reduced = pd.DataFrame(pca.transform(X_test), index=X_test.index, columns=[ f'PC {i}' for i in range(1, n_components + 1)])"
      ],
      "metadata": {
        "id": "ZHbJgx-q3W26"
      },
      "execution_count": null,
      "outputs": []
    },
    {
      "cell_type": "code",
      "source": [
        "X_train_reduced"
      ],
      "metadata": {
        "id": "F0MUbVbmAe8r"
      },
      "execution_count": null,
      "outputs": []
    },
    {
      "cell_type": "markdown",
      "source": [
        "Notice how most of the variance is contained in the first few principle components."
      ],
      "metadata": {
        "id": "8mm1_AdoBEi3"
      }
    },
    {
      "cell_type": "code",
      "source": [
        "pca.explained_variance_"
      ],
      "metadata": {
        "id": "ovCjXOxYAzds"
      },
      "execution_count": null,
      "outputs": []
    },
    {
      "cell_type": "code",
      "source": [
        "pca.explained_variance_ratio_"
      ],
      "metadata": {
        "id": "5ETncZn9A22W"
      },
      "execution_count": null,
      "outputs": []
    },
    {
      "cell_type": "code",
      "source": [
        "models = {\n",
        "    '      Logistic Regression': LogisticRegression(),\n",
        "    ' Decision Tree Classifier': DecisionTreeClassifier(),\n",
        "    ' Random Forest Classifier': RandomForestClassifier(),\n",
        "    'Support Vector Classifier': SVC(probability=True)\n",
        "}\n",
        "\n",
        "for name, model in models.items():\n",
        "  model.fit(X_train_reduced, y_train)\n",
        "  print(f'{name} trained!')\n",
        "\n",
        "for name, model in models.items():\n",
        "  print(f'{name} | accuracy: {model.score(X_test_reduced, y_test):.4f} | log loss: {log_loss(y_test, model.predict_proba(X_test_reduced)):7.4f} | f1: {f1_score(y_test, model.predict(X_test_reduced)):.4f}')"
      ],
      "metadata": {
        "id": "cQh9rol4BeTw"
      },
      "execution_count": null,
      "outputs": []
    },
    {
      "cell_type": "markdown",
      "source": [
        "The idea now is to drop all columns with little variance and hold on to the first few, as they hold the most amount of information."
      ],
      "metadata": {
        "id": "LoLSmYwjBPUN"
      }
    },
    {
      "cell_type": "code",
      "source": [
        "n_components = 2\n",
        "\n",
        "pca = PCA(n_components=n_components)\n",
        "pca.fit(X_train)\n",
        "\n",
        "X_train_reduced = pd.DataFrame(pca.transform(X_train), index=X_train.index, columns=[ f'PC {i}' for i in range(1, n_components + 1)])\n",
        "X_test_reduced = pd.DataFrame(pca.transform(X_test), index=X_test.index, columns=[ f'PC {i}' for i in range(1, n_components + 1)])\n",
        "\n",
        "models = {\n",
        "    '      Logistic Regression': LogisticRegression(),\n",
        "    ' Decision Tree Classifier': DecisionTreeClassifier(),\n",
        "    ' Random Forest Classifier': RandomForestClassifier(),\n",
        "    'Support Vector Classifier': SVC(probability=True)\n",
        "}\n",
        "\n",
        "for name, model in models.items():\n",
        "  model.fit(X_train_reduced, y_train)\n",
        "  print(f'{name} trained!')\n",
        "\n",
        "for name, model in models.items():\n",
        "  print(f'{name} | accuracy: {model.score(X_test_reduced, y_test):.4f} | log loss: {log_loss(y_test, model.predict_proba(X_test_reduced)):7.4f} | f1: {f1_score(y_test, model.predict(X_test_reduced)):.4f}')"
      ],
      "metadata": {
        "id": "NWsRpwwaBW-w"
      },
      "execution_count": null,
      "outputs": []
    },
    {
      "cell_type": "code",
      "source": [
        "ax = sns.scatterplot(x=X_test_reduced['PC 1'], y=X_test_reduced['PC 2'], hue=y_test)\n",
        "plt.show()"
      ],
      "metadata": {
        "id": "NmN5YMB5CTHb"
      },
      "execution_count": null,
      "outputs": []
    },
    {
      "cell_type": "code",
      "source": [
        "plot_tree(models.get(' Decision Tree Classifier'), fontsize=10)\n",
        "plt.show()"
      ],
      "metadata": {
        "id": "Prpa-5aPcMq2"
      },
      "execution_count": null,
      "outputs": []
    },
    {
      "cell_type": "markdown",
      "source": [
        "# For Home\n",
        "\n",
        "Try out clustering and PCA on [this dataset](https://www.kaggle.com/datasets/uciml/aps-failure-at-scania-trucks-data-set)."
      ],
      "metadata": {
        "id": "UnttoagW1mJO"
      }
    }
  ]
}