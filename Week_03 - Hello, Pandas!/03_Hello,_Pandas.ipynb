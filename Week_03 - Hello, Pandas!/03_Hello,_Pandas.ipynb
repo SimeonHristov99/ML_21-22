{
  "nbformat": 4,
  "nbformat_minor": 0,
  "metadata": {
    "colab": {
      "name": "03 - Hello, Pandas.ipynb",
      "provenance": [],
      "collapsed_sections": [],
      "authorship_tag": "ABX9TyM9HoHRDJ4JCO3EtFQg+wcY",
      "include_colab_link": true
    },
    "kernelspec": {
      "name": "python3",
      "display_name": "Python 3"
    },
    "language_info": {
      "name": "python"
    }
  },
  "cells": [
    {
      "cell_type": "markdown",
      "metadata": {
        "id": "view-in-github",
        "colab_type": "text"
      },
      "source": [
        "<a href=\"https://colab.research.google.com/github/SimeonHristov99/ML_21-22/blob/main/03_Hello%2C_Pandas.ipynb\" target=\"_parent\"><img src=\"https://colab.research.google.com/assets/colab-badge.svg\" alt=\"Open In Colab\"/></a>"
      ]
    },
    {
      "cell_type": "markdown",
      "source": [
        "# Hello, [Pandas](https://pandas.pydata.org/docs/reference/index.html)!"
      ],
      "metadata": {
        "id": "ox-cJSz5X-OV"
      }
    },
    {
      "cell_type": "markdown",
      "source": [
        "## What is pandas?"
      ],
      "metadata": {
        "id": "qkWyfiODYM1t"
      }
    },
    {
      "cell_type": "markdown",
      "source": [
        "- (in short) data analysis library\n",
        "- (according to the official website) \"an open source, BSD-licensed library providing high-performance, easy-to-use data structures and data analysis tools for the Python programming language.\""
      ],
      "metadata": {
        "id": "LMO9AknbYQZ0"
      }
    },
    {
      "cell_type": "markdown",
      "source": [
        "## Download data\n",
        "\n",
        "We will be using the [Stack Overflow Annual Developer Survey](https://insights.stackoverflow.com/survey) results from last year."
      ],
      "metadata": {
        "id": "oNI3AghJae7B"
      }
    },
    {
      "cell_type": "code",
      "execution_count": null,
      "metadata": {
        "id": "hpo-1zClX7pD"
      },
      "outputs": [],
      "source": [
        "!wget https://info.stackoverflowsolutions.com/rs/719-EMH-566/images/stack-overflow-developer-survey-2021.zip -O tmp.zip\n",
        "!unzip tmp.zip -d ./data\n",
        "!rm tmp.zip"
      ]
    },
    {
      "cell_type": "markdown",
      "source": [
        "## Imports and Constants"
      ],
      "metadata": {
        "id": "I8kS1Mszbs9J"
      }
    },
    {
      "cell_type": "code",
      "source": [
        "import pandas as pd\n",
        "import numpy as np"
      ],
      "metadata": {
        "id": "8cs8IUFKaE5N"
      },
      "execution_count": null,
      "outputs": []
    },
    {
      "cell_type": "code",
      "source": [
        "DATA_PATH = '/content/data/survey_results_public.csv'\n",
        "SCHEMA_PATH = '/content/data/survey_results_schema.csv'"
      ],
      "metadata": {
        "id": "tzY8_yp9b5it"
      },
      "execution_count": null,
      "outputs": []
    },
    {
      "cell_type": "markdown",
      "source": [
        "## Load the data into a DataFrame"
      ],
      "metadata": {
        "id": "3NrDj1w4bmfS"
      }
    },
    {
      "cell_type": "markdown",
      "source": [
        "A **dataframe** is a tablular representation of data, i.e. rows and columns of data."
      ],
      "metadata": {
        "id": "pXbQ9ztKcFWQ"
      }
    },
    {
      "cell_type": "code",
      "source": [
        "df = pd.read_csv(DATA_PATH)\n",
        "df"
      ],
      "metadata": {
        "id": "upj3DcgLbwHi"
      },
      "execution_count": null,
      "outputs": []
    },
    {
      "cell_type": "code",
      "source": [
        "# (num_rows, num_cols)\n",
        "df.shape"
      ],
      "metadata": {
        "id": "By6K5jeib_b2"
      },
      "execution_count": null,
      "outputs": []
    },
    {
      "cell_type": "code",
      "source": [
        "# With `.info()` you see the column names as well as their type and whether they have any missing entries.\n",
        "# The type `object` usually refers to string.\n",
        "df.info()"
      ],
      "metadata": {
        "id": "Oy-qdqVvcaJT"
      },
      "execution_count": null,
      "outputs": []
    },
    {
      "cell_type": "code",
      "source": [
        "pd.set_option('display.max_columns', df.shape[1])\n",
        "# pd.set_option('display.max_rows', df.shape[0]) # In case you want to see all rows\n",
        "df"
      ],
      "metadata": {
        "id": "QSf3rHDfcoCs"
      },
      "execution_count": null,
      "outputs": []
    },
    {
      "cell_type": "code",
      "source": [
        "# In order to see what question each of these columns refer to, we need to load the schema.\n",
        "schema_df = pd.read_csv(SCHEMA_PATH)\n",
        "schema_df"
      ],
      "metadata": {
        "id": "m9te75sxdUD3"
      },
      "execution_count": null,
      "outputs": []
    },
    {
      "cell_type": "code",
      "source": [
        "# See the first 5 rows\n",
        "df.head()"
      ],
      "metadata": {
        "id": "-UOF3PRVd0vY"
      },
      "execution_count": null,
      "outputs": []
    },
    {
      "cell_type": "code",
      "source": [
        "# See the first n rows\n",
        "df.head(10)"
      ],
      "metadata": {
        "id": "QTrb08zIe-_C"
      },
      "execution_count": null,
      "outputs": []
    },
    {
      "cell_type": "code",
      "source": [
        "# See the last 5 rows\n",
        "df.tail()"
      ],
      "metadata": {
        "id": "7i6Y3x7KfDnC"
      },
      "execution_count": null,
      "outputs": []
    },
    {
      "cell_type": "code",
      "source": [
        "# See the last 10 rows\n",
        "df.tail(10)"
      ],
      "metadata": {
        "id": "qyE-uXuAfIG_"
      },
      "execution_count": null,
      "outputs": []
    },
    {
      "cell_type": "markdown",
      "source": [
        "## Selecting Rows and Columns"
      ],
      "metadata": {
        "id": "gS3QguQwfU3U"
      }
    },
    {
      "cell_type": "markdown",
      "source": [
        "If we wanted to store information about a person, we could use the following format."
      ],
      "metadata": {
        "id": "-QgFXGQ6gNBf"
      }
    },
    {
      "cell_type": "code",
      "source": [
        "person = {\n",
        "    'first': 'SimoFirst',\n",
        "    'last': 'SimoLast',\n",
        "    'email': 's.e.hristov99@gmail.com'\n",
        "}"
      ],
      "metadata": {
        "id": "VE40f1ONfK8a"
      },
      "execution_count": null,
      "outputs": []
    },
    {
      "cell_type": "markdown",
      "source": [
        "However, we can't store information about multiple people. For that, we would need this approach."
      ],
      "metadata": {
        "id": "ao5Ek0J4gTLK"
      }
    },
    {
      "cell_type": "code",
      "source": [
        "people = {\n",
        "    'first': ['SimoFirst', 'Jane', 'John'],\n",
        "    'last': ['SimoLast', 'Doe', 'Doe'],\n",
        "    'email': ['s.e.hristov99@gmail.com', 'JaneDoe@gmail.com', 'JohnDoe@gmail.com']\n",
        "}"
      ],
      "metadata": {
        "id": "auevNgu9gbJa"
      },
      "execution_count": null,
      "outputs": []
    },
    {
      "cell_type": "markdown",
      "source": [
        "We can think of these as rows and columns. They keys are the columns and the values are the rows. Usually, the definition for a dataframe object in pandas is `two-dimensional data structure`. If that sounds confusing, think of it as multiple rows and columns."
      ],
      "metadata": {
        "id": "zF-YxMSIgqgC"
      }
    },
    {
      "cell_type": "code",
      "source": [
        "# If we wanted to see the `email` column, we would access the `email` key in the `people` dictionary.\n",
        "people['email']"
      ],
      "metadata": {
        "id": "gkl2-qzhhSk0"
      },
      "execution_count": null,
      "outputs": []
    },
    {
      "cell_type": "code",
      "source": [
        "# Let's create a dataframe from the `people` dictionary!\n",
        "# Note: The left-most column is called an idex. Think of it as the primary key for a database table. More on that later.\n",
        "ppl_df = pd.DataFrame(people)\n",
        "ppl_df"
      ],
      "metadata": {
        "id": "eKgiDWRxhcAG"
      },
      "execution_count": null,
      "outputs": []
    },
    {
      "cell_type": "code",
      "source": [
        "# Get all the values in a column.\n",
        "ppl_df['email'] # Same as ppl_df.email"
      ],
      "metadata": {
        "id": "ko8FPbgdht8S"
      },
      "execution_count": null,
      "outputs": []
    },
    {
      "cell_type": "code",
      "source": [
        "# Note: The return type is actually a pandas.Series object. A Series is a list of data with more information and functionality. You can think of it as the values of a single column.\n",
        "type(ppl_df['email'])"
      ],
      "metadata": {
        "id": "LZJrhbAFiEp1"
      },
      "execution_count": null,
      "outputs": []
    },
    {
      "cell_type": "markdown",
      "source": [
        "> **Conclusion**: We can then say that a DataFrame is a container for Series objects."
      ],
      "metadata": {
        "id": "NCHiEYg3in7o"
      }
    },
    {
      "cell_type": "code",
      "source": [
        "# Get the rows of multiple columns\n",
        "ppl_df[['last', 'email']]"
      ],
      "metadata": {
        "id": "aC3eRVxLixcG"
      },
      "execution_count": null,
      "outputs": []
    },
    {
      "cell_type": "code",
      "source": [
        "# Note: The return type is not a Series. It's a new DataFrame.\n",
        "type(ppl_df[['last', 'email']])"
      ],
      "metadata": {
        "id": "KMb3EJMrjPMS"
      },
      "execution_count": null,
      "outputs": []
    },
    {
      "cell_type": "code",
      "source": [
        "# Get the names of all columns.\n",
        "ppl_df.columns"
      ],
      "metadata": {
        "id": "_lorw_C0jksa"
      },
      "execution_count": null,
      "outputs": []
    },
    {
      "cell_type": "markdown",
      "source": [
        "In order to get specific rows, we use the:\n",
        "- **iloc** method: access rows by integer location, i.e. like indexing an array in C++.\n",
        "- **loc** method: access by the dataframe index index."
      ],
      "metadata": {
        "id": "l_WdJpJhjukm"
      }
    },
    {
      "cell_type": "markdown",
      "source": [
        "### iloc"
      ],
      "metadata": {
        "id": "fuq_NwpsOD3G"
      }
    },
    {
      "cell_type": "code",
      "source": [
        "# It returns a Series with all the values for the 0th row.\n",
        "ppl_df.iloc[0]"
      ],
      "metadata": {
        "id": "UvUj_Fy7joEH"
      },
      "execution_count": null,
      "outputs": []
    },
    {
      "cell_type": "code",
      "source": [
        "# Get the values of n rows.\n",
        "ppl_df.iloc[[0, -1]]"
      ],
      "metadata": {
        "id": "mdfRS-6DkOfH"
      },
      "execution_count": null,
      "outputs": []
    },
    {
      "cell_type": "code",
      "source": [
        "# We can also get the values of a certain column.\n",
        "ppl_df.iloc[[0, -1], -1]"
      ],
      "metadata": {
        "id": "D_qhzzAXkcFQ"
      },
      "execution_count": null,
      "outputs": []
    },
    {
      "cell_type": "markdown",
      "source": [
        "### loc"
      ],
      "metadata": {
        "id": "1M3nkOBOOGCG"
      }
    },
    {
      "cell_type": "code",
      "source": [
        "# While the `iloc` method indexes the rows as intergers from 0 .. len - 1\n",
        "# loc indexes the rows by the left-most column.\n",
        "# Notice how there's no name above it.\n",
        "ppl_df"
      ],
      "metadata": {
        "id": "_xKWatMpks-t"
      },
      "execution_count": null,
      "outputs": []
    },
    {
      "cell_type": "code",
      "source": [
        "ppl_df.loc[0]"
      ],
      "metadata": {
        "id": "ZShePwsJk5yu"
      },
      "execution_count": null,
      "outputs": []
    },
    {
      "cell_type": "code",
      "source": [
        "ppl_df.loc[[0, 2]]"
      ],
      "metadata": {
        "id": "NwNUtiLZk8jT"
      },
      "execution_count": null,
      "outputs": []
    },
    {
      "cell_type": "code",
      "source": [
        "ppl_df.loc[[0, 2], 'email']"
      ],
      "metadata": {
        "id": "Ohx4x_h_lE_a"
      },
      "execution_count": null,
      "outputs": []
    },
    {
      "cell_type": "code",
      "source": [
        "ppl_df.loc[[0, 2], ['email', 'first']]"
      ],
      "metadata": {
        "id": "J8nvbSbJlG3f"
      },
      "execution_count": null,
      "outputs": []
    },
    {
      "cell_type": "markdown",
      "source": [
        "### **Question**: How many people are there in each employment type?"
      ],
      "metadata": {
        "id": "JFt27K1nNzwl"
      }
    },
    {
      "cell_type": "code",
      "source": [
        "df.columns"
      ],
      "metadata": {
        "id": "4xpbucPclYBT"
      },
      "execution_count": null,
      "outputs": []
    },
    {
      "cell_type": "code",
      "source": [
        "df['Employment']"
      ],
      "metadata": {
        "id": "fT7SgXFKlc1X"
      },
      "execution_count": null,
      "outputs": []
    },
    {
      "cell_type": "code",
      "source": [
        "df['Employment'].value_counts()"
      ],
      "metadata": {
        "id": "v5Ehb8cSl2Ij"
      },
      "execution_count": null,
      "outputs": []
    },
    {
      "cell_type": "code",
      "source": [
        "# Get the responce of the first person for the `employment` question.\n",
        "df.loc[0, 'Employment']"
      ],
      "metadata": {
        "id": "RQi4_98cl96r"
      },
      "execution_count": null,
      "outputs": []
    },
    {
      "cell_type": "code",
      "source": [
        "# Get the responce of the first three people for the `employment` question.\n",
        "# via a list\n",
        "df.loc[[0, 1, 2], 'Employment']"
      ],
      "metadata": {
        "id": "DkdIyUsEmfLu"
      },
      "execution_count": null,
      "outputs": []
    },
    {
      "cell_type": "code",
      "source": [
        "# via slicing\n",
        "# Note: The last element when using `loc` is inclusive.\n",
        "df.loc[0:2, 'Employment']"
      ],
      "metadata": {
        "id": "IhwY8VTemsch"
      },
      "execution_count": null,
      "outputs": []
    },
    {
      "cell_type": "code",
      "source": [
        "# Get the values of the first three respondents for the columns from `employment` to `edlevel`\n",
        "df.loc[0:2, 'Employment':'EdLevel']"
      ],
      "metadata": {
        "id": "dCTTjO1tm3Ud"
      },
      "execution_count": null,
      "outputs": []
    },
    {
      "cell_type": "markdown",
      "source": [
        "## Indexes - Set, Reset, and Use"
      ],
      "metadata": {
        "id": "kD05o-PJne1x"
      }
    },
    {
      "cell_type": "code",
      "source": [
        "ppl_df"
      ],
      "metadata": {
        "id": "RjPs4-LEnM7G"
      },
      "execution_count": null,
      "outputs": []
    },
    {
      "cell_type": "code",
      "source": [
        "ppl_df.index"
      ],
      "metadata": {
        "id": "8DrTqlqCoZiI"
      },
      "execution_count": null,
      "outputs": []
    },
    {
      "cell_type": "code",
      "source": [
        "# Set the email addresses as an index.\n",
        "ppl_df.set_index('email')"
      ],
      "metadata": {
        "id": "_VIo78hxnxw7"
      },
      "execution_count": null,
      "outputs": []
    },
    {
      "cell_type": "code",
      "source": [
        "# Note: Our dataframe didn't actually change because `set_index` returns a new dataframe.\n",
        "ppl_df"
      ],
      "metadata": {
        "id": "2UYX3md0n4Tn"
      },
      "execution_count": null,
      "outputs": []
    },
    {
      "cell_type": "code",
      "source": [
        "ppl_df = ppl_df.set_index('email') # Same as ppl_df.set_index('email', inplace=True)\n",
        "ppl_df"
      ],
      "metadata": {
        "id": "0PLv2RAMoHGC"
      },
      "execution_count": null,
      "outputs": []
    },
    {
      "cell_type": "code",
      "source": [
        "ppl_df.index"
      ],
      "metadata": {
        "id": "2RrhtbVcoR26"
      },
      "execution_count": null,
      "outputs": []
    },
    {
      "cell_type": "code",
      "source": [
        "# Get the last name of Jane using `loc`\n",
        "ppl_df.loc['JaneDoe@gmail.com', 'last']"
      ],
      "metadata": {
        "id": "N3kSzMthoV_C"
      },
      "execution_count": null,
      "outputs": []
    },
    {
      "cell_type": "code",
      "source": [
        "# Get the last name of Jane using `iloc`\n",
        "ppl_df.iloc[1, 1]\n",
        "# or: ppl_df.iloc[1, -1]"
      ],
      "metadata": {
        "id": "TJqdWyLcPjuk"
      },
      "execution_count": null,
      "outputs": []
    },
    {
      "cell_type": "code",
      "source": [
        "# ppl_df.loc[0] # This will no longer work, since the index is now a string.\n",
        "ppl_df.iloc[0]"
      ],
      "metadata": {
        "id": "d1Yfqh7MoyuA"
      },
      "execution_count": null,
      "outputs": []
    },
    {
      "cell_type": "code",
      "source": [
        "# Reset the idex.\n",
        "ppl_df = ppl_df.reset_index()\n",
        "ppl_df"
      ],
      "metadata": {
        "id": "mSalbuANo9Gd"
      },
      "execution_count": null,
      "outputs": []
    },
    {
      "cell_type": "code",
      "source": [
        "df"
      ],
      "metadata": {
        "id": "pE8RswlVpLkP"
      },
      "execution_count": null,
      "outputs": []
    },
    {
      "cell_type": "code",
      "source": [
        "# Notice how the `ResponseId` column is a unique identifier.\n",
        "# Set it as an index\n",
        "df.set_index('ResponseId')"
      ],
      "metadata": {
        "id": "G9p6C-SxP98z"
      },
      "execution_count": null,
      "outputs": []
    },
    {
      "cell_type": "code",
      "source": [
        "# Set it as an index while loading in the data!\n",
        "df = pd.read_csv(DATA_PATH, index_col='ResponseId')\n",
        "df"
      ],
      "metadata": {
        "id": "mSEaDDampb6H"
      },
      "execution_count": null,
      "outputs": []
    },
    {
      "cell_type": "code",
      "source": [
        "# The first responded has an index of 1 now.\n",
        "df.loc[1]"
      ],
      "metadata": {
        "id": "Yh0g4Fm7pu_N"
      },
      "execution_count": null,
      "outputs": []
    },
    {
      "cell_type": "markdown",
      "source": [
        "### **Task**: Get the question a column refers to."
      ],
      "metadata": {
        "id": "DkcgKl8ZQcCJ"
      }
    },
    {
      "cell_type": "code",
      "source": [
        "# First, get the name of the column that will be used as an index.\n",
        "schema_df"
      ],
      "metadata": {
        "id": "49iZGHcrqC3q"
      },
      "execution_count": null,
      "outputs": []
    },
    {
      "cell_type": "code",
      "source": [
        "# In this case it's `qname`\n",
        "schema_df = pd.read_csv(SCHEMA_PATH, index_col='qname')\n",
        "schema_df"
      ],
      "metadata": {
        "id": "0CU_C5MNqUHb"
      },
      "execution_count": null,
      "outputs": []
    },
    {
      "cell_type": "code",
      "source": [
        "# Then, locate the row with index `Employment`\n",
        "schema_df.loc['Employment']"
      ],
      "metadata": {
        "id": "rv5ZEbp8qZ33"
      },
      "execution_count": null,
      "outputs": []
    },
    {
      "cell_type": "code",
      "source": [
        "schema_df.loc['Employment', 'question']"
      ],
      "metadata": {
        "id": "cqyYKdppqjyb"
      },
      "execution_count": null,
      "outputs": []
    },
    {
      "cell_type": "code",
      "source": [
        "# Now we can check any question\n",
        "df.columns"
      ],
      "metadata": {
        "id": "_0Na3CemqpmR"
      },
      "execution_count": null,
      "outputs": []
    },
    {
      "cell_type": "code",
      "source": [
        "schema_df.loc['NEWOtherComms', 'question']"
      ],
      "metadata": {
        "id": "1UY1D7hkqv3h"
      },
      "execution_count": null,
      "outputs": []
    },
    {
      "cell_type": "code",
      "source": [
        "# Sort the indices lexicographically.\n",
        "schema_df.sort_index()"
      ],
      "metadata": {
        "id": "mg2J5inrq18M"
      },
      "execution_count": null,
      "outputs": []
    },
    {
      "cell_type": "code",
      "source": [
        "# Note that this does not change the dataframe.\n",
        "schema_df.sort_index(ascending=False)"
      ],
      "metadata": {
        "id": "S2-PrFWMrI4G"
      },
      "execution_count": null,
      "outputs": []
    },
    {
      "cell_type": "markdown",
      "source": [
        "## Filtering - Using Conditionals to Filter Rows and Columns"
      ],
      "metadata": {
        "id": "BFFtp8YPsbeI"
      }
    },
    {
      "cell_type": "code",
      "source": [
        "ppl_df"
      ],
      "metadata": {
        "id": "8l2Fi__JrOxQ"
      },
      "execution_count": null,
      "outputs": []
    },
    {
      "cell_type": "code",
      "source": [
        "# Get all people with last name `Doe`.\n",
        "ppl_df['last'] == 'Doe'"
      ],
      "metadata": {
        "id": "I8qy_oD-siZu"
      },
      "execution_count": null,
      "outputs": []
    },
    {
      "cell_type": "code",
      "source": [
        "ppl_df[ppl_df['last'] == 'Doe']"
      ],
      "metadata": {
        "id": "tLo1sNRDspGB"
      },
      "execution_count": null,
      "outputs": []
    },
    {
      "cell_type": "code",
      "source": [
        "ppl_df[ppl_df['last'] == 'Doe']['email']"
      ],
      "metadata": {
        "id": "t9Lib-vTtk8L"
      },
      "execution_count": null,
      "outputs": []
    },
    {
      "cell_type": "code",
      "source": [
        "ppl_df.loc[ppl_df['last'] == 'Doe']"
      ],
      "metadata": {
        "id": "FFceXYvLtRA0"
      },
      "execution_count": null,
      "outputs": []
    },
    {
      "cell_type": "code",
      "source": [
        "ppl_df.loc[ppl_df['last'] == 'Doe', 'email']"
      ],
      "metadata": {
        "id": "u5jNZ67otiGV"
      },
      "execution_count": null,
      "outputs": []
    },
    {
      "cell_type": "markdown",
      "source": [
        "> **Note**: Chaining multiple conditions happens with **&**, **|**, **~**, not with the Python keywords `and`, `or`, `not`.\n",
        "\n",
        "> **THE BRACKETS ARE IMPORTANT!**"
      ],
      "metadata": {
        "id": "tEJF_TAxtwl1"
      }
    },
    {
      "cell_type": "code",
      "source": [
        "# Get the rows in which the last name is `Doe` and the first name is `John`.\n",
        "ppl_df[(ppl_df['last'] == 'Doe') & (ppl_df['first'] == 'John')]"
      ],
      "metadata": {
        "id": "avHNmfC4tjEA"
      },
      "execution_count": null,
      "outputs": []
    },
    {
      "cell_type": "code",
      "source": [
        "ppl_df[(ppl_df['last'] == 'Doe') & (ppl_df['first'] == 'John')]['email']"
      ],
      "metadata": {
        "id": "FkmVYfT_uMXN"
      },
      "execution_count": null,
      "outputs": []
    },
    {
      "cell_type": "code",
      "source": [
        "# Get the rows in which the last name is `SimoLast` or the first name is `John`.\n",
        "ppl_df[(ppl_df['last'] == 'SimoLast') | (ppl_df['first'] == 'John')]"
      ],
      "metadata": {
        "id": "kglVCf14ujnd"
      },
      "execution_count": null,
      "outputs": []
    },
    {
      "cell_type": "code",
      "source": [
        "ppl_df[(ppl_df['last'] == 'SimoLast') | (ppl_df['first'] == 'John')]['email']"
      ],
      "metadata": {
        "id": "VGHVNcUnu2sv"
      },
      "execution_count": null,
      "outputs": []
    },
    {
      "cell_type": "code",
      "source": [
        "# Get the opposite of the above condition.\n",
        "ppl_df[~((ppl_df['last'] == 'SimoLast') | (ppl_df['first'] == 'John'))]['email']"
      ],
      "metadata": {
        "id": "nCTVGgfZu4R1"
      },
      "execution_count": null,
      "outputs": []
    },
    {
      "cell_type": "code",
      "source": [
        "df.columns"
      ],
      "metadata": {
        "id": "YD3n5JeiveVp"
      },
      "execution_count": null,
      "outputs": []
    },
    {
      "cell_type": "markdown",
      "source": [
        "### **Task**: Get all responces from people that earn a salary > 70 000."
      ],
      "metadata": {
        "id": "CM9KBwdDSpUu"
      }
    },
    {
      "cell_type": "code",
      "source": [
        "# We'll use the last column `ConvertedCompYearly` to do that.\n",
        "filt = (df['ConvertedCompYearly'] > 70000)\n",
        "df[filt]"
      ],
      "metadata": {
        "id": "fQNbuQEov3As"
      },
      "execution_count": null,
      "outputs": []
    },
    {
      "cell_type": "code",
      "source": [
        "df[filt][['Country', 'LanguageHaveWorkedWith', 'ConvertedCompYearly']]"
      ],
      "metadata": {
        "id": "JXJ-tQKawNpb"
      },
      "execution_count": null,
      "outputs": []
    },
    {
      "cell_type": "code",
      "source": [
        "# Task: Get only responces from specific countries.\n",
        "countries = ['United States', 'Germany', 'Bulgaria', 'United Kingdom', 'Canada', 'India']\n",
        "filt = (df['Country'].isin(countries))"
      ],
      "metadata": {
        "id": "SQA0-r7DwbnH"
      },
      "execution_count": null,
      "outputs": []
    },
    {
      "cell_type": "code",
      "source": [
        "df.loc[filt, 'Country']"
      ],
      "metadata": {
        "id": "qjwAzj3txj09"
      },
      "execution_count": null,
      "outputs": []
    },
    {
      "cell_type": "code",
      "source": [
        "# Task: Get people who chose Python as the only programming language they know.\n",
        "df['LanguageHaveWorkedWith']"
      ],
      "metadata": {
        "id": "BG58ZWnbxoeD"
      },
      "execution_count": null,
      "outputs": []
    },
    {
      "cell_type": "code",
      "source": [
        "filt = df['LanguageHaveWorkedWith'].str.contains('Python', na=False)\n",
        "df.loc[filt]"
      ],
      "metadata": {
        "id": "9w-cP3YCyGok"
      },
      "execution_count": null,
      "outputs": []
    },
    {
      "cell_type": "markdown",
      "source": [
        "## Updating Rows and Columns - Modifying Data Within DataFrames"
      ],
      "metadata": {
        "id": "cjjsndp4oInK"
      }
    },
    {
      "cell_type": "code",
      "source": [
        "ppl_df = pd.DataFrame(people)\n",
        "ppl_df"
      ],
      "metadata": {
        "id": "rJs72fYXq6Ln"
      },
      "execution_count": null,
      "outputs": []
    },
    {
      "cell_type": "markdown",
      "source": [
        "**Column names**"
      ],
      "metadata": {
        "id": "hdlDduFoqK_A"
      }
    },
    {
      "cell_type": "code",
      "source": [
        "# Rename all columns\n",
        "ppl_df.columns = ['first_name', 'last_name', 'email']\n",
        "ppl_df"
      ],
      "metadata": {
        "id": "KeaZvDVHycd2"
      },
      "execution_count": null,
      "outputs": []
    },
    {
      "cell_type": "code",
      "source": [
        "# Uppercase all of the column names\n",
        "ppl_df.columns = ppl_df.columns.str.upper()\n",
        "ppl_df"
      ],
      "metadata": {
        "id": "et52ZfJ7oemH"
      },
      "execution_count": null,
      "outputs": []
    },
    {
      "cell_type": "code",
      "source": [
        "# Replace underlines with spaces\n",
        "ppl_df.columns = ppl_df.columns.str.replace('_', ' ')\n",
        "ppl_df"
      ],
      "metadata": {
        "id": "m-GIcSjDo08J"
      },
      "execution_count": null,
      "outputs": []
    },
    {
      "cell_type": "code",
      "source": [
        "# Change only specific columns\n",
        "ppl_df = ppl_df.rename(columns={\n",
        "    'FIRST NAME': 'first',\n",
        "    'LAST NAME': 'last',\n",
        "})\n",
        "ppl_df"
      ],
      "metadata": {
        "id": "5cY9RbUgpL-c"
      },
      "execution_count": null,
      "outputs": []
    },
    {
      "cell_type": "markdown",
      "source": [
        "**Row values**"
      ],
      "metadata": {
        "id": "4uumsq2oqPHd"
      }
    },
    {
      "cell_type": "code",
      "source": [
        "ppl_df.columns = ['first', 'last', 'email']\n",
        "ppl_df"
      ],
      "metadata": {
        "id": "Dra89--Nrb0I"
      },
      "execution_count": null,
      "outputs": []
    },
    {
      "cell_type": "code",
      "source": [
        "# Task: Change John's last name to Smith\n",
        "ppl_df.loc[2]"
      ],
      "metadata": {
        "id": "Fgeew1h7p2xs"
      },
      "execution_count": null,
      "outputs": []
    },
    {
      "cell_type": "code",
      "source": [
        "# solution 1: replace the whole sample\n",
        "ppl_df.loc[2] = ['John', 'Smith', 'JohnSmith@email.com']\n",
        "ppl_df"
      ],
      "metadata": {
        "id": "HjZMv_rJqVBm"
      },
      "execution_count": null,
      "outputs": []
    },
    {
      "cell_type": "code",
      "source": [
        "# solution 2: Change only the values for specific columns\n",
        "ppl_df.loc[2, 'last'] = 'Smith'\n",
        "ppl_df"
      ],
      "metadata": {
        "id": "z9XlypwxrTXL"
      },
      "execution_count": null,
      "outputs": []
    },
    {
      "cell_type": "code",
      "source": [
        "# Change only the values for specific columns\n",
        "ppl_df.loc[2, ['last', 'email']] = ['Doe', 'JohnDoe@email.com']\n",
        "ppl_df"
      ],
      "metadata": {
        "id": "TRjOIzJIql_5"
      },
      "execution_count": null,
      "outputs": []
    },
    {
      "cell_type": "code",
      "source": [
        "# Common mistake: Changing a value through a filter\n",
        "filt = (ppl_df['email'] == 'JohnDoe@email.com')\n",
        "ppl_df[filt]"
      ],
      "metadata": {
        "id": "fK7iap_Rr-XL"
      },
      "execution_count": null,
      "outputs": []
    },
    {
      "cell_type": "code",
      "source": [
        "ppl_df[filt]['last'] = 'Smith'\n",
        "ppl_df"
      ],
      "metadata": {
        "id": "_Q8ZhUdnsUdy"
      },
      "execution_count": null,
      "outputs": []
    },
    {
      "cell_type": "code",
      "source": [
        "# Solution\n",
        "ppl_df.loc[filt, 'last'] = 'Smith'\n",
        "ppl_df"
      ],
      "metadata": {
        "id": "1ckp3c6jtA9G"
      },
      "execution_count": null,
      "outputs": []
    },
    {
      "cell_type": "code",
      "source": [
        "# Change all emails to lowercase.\n",
        "\n",
        "# First way: just assign the column to its lowercase version.\n",
        "ppl_df['email'] = ppl_df['email'].str.lower()\n",
        "ppl_df"
      ],
      "metadata": {
        "id": "UdOuBq6wtSJu"
      },
      "execution_count": null,
      "outputs": []
    },
    {
      "cell_type": "markdown",
      "source": [
        "However, we could also use one of the following functions:\n",
        "- **map**: calling a function for every value in a series. *If the functions does not change a value, it replaces it with NaN*. ONLY WORKS ON SERIES\n",
        "- **replace**: calling a function for every value in a series. *If the functions does not change a value, it leaves it as it was*. ONLY WORKS ON SERIES\n",
        "- **apply**: calling a function for every value in a series or for every series in a dataframe.\n",
        "- **applymap**: calling a function for every value in a dataframe. ONLY WORKS ON DATAFRAMES"
      ],
      "metadata": {
        "id": "LtLg0eOjt_MY"
      }
    },
    {
      "cell_type": "code",
      "source": [
        "ppl_df['email'].apply(len)"
      ],
      "metadata": {
        "id": "Lw0EWafXtkXA"
      },
      "execution_count": null,
      "outputs": []
    },
    {
      "cell_type": "code",
      "source": [
        "ppl_df['email'].apply(lambda email: email.upper())"
      ],
      "metadata": {
        "id": "qM9nd5zjupnG"
      },
      "execution_count": null,
      "outputs": []
    },
    {
      "cell_type": "code",
      "source": [
        "ppl_df['email'] = ppl_df['email'].apply(lambda email: email.upper())\n",
        "ppl_df"
      ],
      "metadata": {
        "id": "8qZf8LW3u6fG"
      },
      "execution_count": null,
      "outputs": []
    },
    {
      "cell_type": "code",
      "source": [
        "# The above examples, should not be that surprising, but see what it does when called for the dataframe\n",
        "# It will apply the function to each of the row (series object).\n",
        "ppl_df.apply(len) # Same as len(ppl_df['email'])"
      ],
      "metadata": {
        "id": "nyfDihwSu-Jl"
      },
      "execution_count": null,
      "outputs": []
    },
    {
      "cell_type": "code",
      "source": [
        "ppl_df.apply(len, axis='columns')"
      ],
      "metadata": {
        "id": "GTbdOePivsiF"
      },
      "execution_count": null,
      "outputs": []
    },
    {
      "cell_type": "code",
      "source": [
        "# Return the lexicographically smallest element for every row\n",
        "ppl_df.apply(pd.Series.min)"
      ],
      "metadata": {
        "id": "Vdevd6fwwNbk"
      },
      "execution_count": null,
      "outputs": []
    },
    {
      "cell_type": "code",
      "source": [
        "# Get the length of each string in the dataframe.\n",
        "ppl_df.applymap(len)"
      ],
      "metadata": {
        "id": "sD2LFP-5w96y"
      },
      "execution_count": null,
      "outputs": []
    },
    {
      "cell_type": "code",
      "source": [
        "# Lowercase every string in the dataframe.\n",
        "ppl_df.applymap(str.lower)"
      ],
      "metadata": {
        "id": "j2cNdIbExy15"
      },
      "execution_count": null,
      "outputs": []
    },
    {
      "cell_type": "code",
      "source": [
        "# Get the length of every first name.\n",
        "ppl_df['first'].map(len)"
      ],
      "metadata": {
        "id": "swr5kwcUyGwI"
      },
      "execution_count": null,
      "outputs": []
    },
    {
      "cell_type": "markdown",
      "source": [
        "> **Note**: If you don't use the assignment operator (`=`), the dataframe stays unchanged."
      ],
      "metadata": {
        "id": "isC-zaTQzPhi"
      }
    },
    {
      "cell_type": "code",
      "source": [
        "ppl_df"
      ],
      "metadata": {
        "id": "DPSQNQYmzba6"
      },
      "execution_count": null,
      "outputs": []
    },
    {
      "cell_type": "code",
      "source": [
        "# Substitute certain values.\n",
        "ppl_df['first'] = ppl_df['first'].map({\n",
        "    'SimoFirst': 'firstsimo',\n",
        "    'Jane': 'Jessy',\n",
        "})\n",
        "ppl_df"
      ],
      "metadata": {
        "id": "V38X3NS8ynlS"
      },
      "execution_count": null,
      "outputs": []
    },
    {
      "cell_type": "code",
      "source": [
        "ppl_df['last'] = ppl_df['last'].replace({\n",
        "    'SimoLast': 'LastSimo',\n",
        "    'Smith': 'Bobson',\n",
        "})\n",
        "ppl_df"
      ],
      "metadata": {
        "id": "j7wGReVky_ZM"
      },
      "execution_count": null,
      "outputs": []
    },
    {
      "cell_type": "code",
      "source": [
        "# Rename the column that holds the yearly converted salary to `SalaryUSD`.\n",
        "df.head()"
      ],
      "metadata": {
        "id": "1YgyFKs20kQ4"
      },
      "execution_count": null,
      "outputs": []
    },
    {
      "cell_type": "code",
      "source": [
        "df = df.rename(columns={\n",
        "    'ConvertedCompYearly': 'SalaryUSD'\n",
        "})\n",
        "df.head()"
      ],
      "metadata": {
        "id": "KxP4kHb11ZDS"
      },
      "execution_count": null,
      "outputs": []
    },
    {
      "cell_type": "code",
      "source": [
        "df['SalaryUSD']"
      ],
      "metadata": {
        "id": "9-5KhT1c1l77"
      },
      "execution_count": null,
      "outputs": []
    },
    {
      "cell_type": "code",
      "source": [
        "# Convert every 'Yes' to True and every 'No' value to False.\n",
        "df['SOAccount'] = df['SOAccount'].map({'Yes': True, 'No': False})"
      ],
      "metadata": {
        "id": "DN82sWpW197L"
      },
      "execution_count": null,
      "outputs": []
    },
    {
      "cell_type": "code",
      "source": [
        "df.head()"
      ],
      "metadata": {
        "id": "wH8V6bxb2CCc"
      },
      "execution_count": null,
      "outputs": []
    },
    {
      "cell_type": "markdown",
      "source": [
        "## Add/Remove Rows and Columns From DataFrames"
      ],
      "metadata": {
        "id": "Mm3SxTiZ23Lk"
      }
    },
    {
      "cell_type": "code",
      "source": [
        "ppl_df = pd.DataFrame(people)\n",
        "ppl_df"
      ],
      "metadata": {
        "id": "pgGIF4ve2jYZ"
      },
      "execution_count": null,
      "outputs": []
    },
    {
      "cell_type": "code",
      "source": [
        "# Add a new column called `name` which is the concatenation of the `first` and `last` columns.\n",
        "ppl_df['name'] = ppl_df['first'] + ' ' + ppl_df['last']  # ppl_df.name will not work, because Python will think that it already exists\n",
        "ppl_df"
      ],
      "metadata": {
        "id": "0TM6AFob4Q7E"
      },
      "execution_count": null,
      "outputs": []
    },
    {
      "cell_type": "code",
      "source": [
        "# Remove the `first` and `last` columns.\n",
        "ppl_df = ppl_df.drop(['first', 'last'], axis=1)\n",
        "ppl_df"
      ],
      "metadata": {
        "id": "gDapK0bn5HrU"
      },
      "execution_count": null,
      "outputs": []
    },
    {
      "cell_type": "code",
      "source": [
        "# Split the `name` column into two new columns.\n",
        "ppl_df['name'].str.split()"
      ],
      "metadata": {
        "id": "TF5jlJsL5T9X"
      },
      "execution_count": null,
      "outputs": []
    },
    {
      "cell_type": "code",
      "source": [
        "ppl_df['name'].str.split(expand=True)"
      ],
      "metadata": {
        "id": "R9piezWW5yQw"
      },
      "execution_count": null,
      "outputs": []
    },
    {
      "cell_type": "code",
      "source": [
        "ppl_df[['first', 'last']] = ppl_df['name'].str.split(expand=True)\n",
        "ppl_df"
      ],
      "metadata": {
        "id": "rf37n4yh6DB3"
      },
      "execution_count": null,
      "outputs": []
    },
    {
      "cell_type": "code",
      "source": [
        "# Add a row of data.\n",
        "ppl_df.append({'first': 'Elon'}, ignore_index=True)"
      ],
      "metadata": {
        "id": "JCzEnL7R6N2e"
      },
      "execution_count": null,
      "outputs": []
    },
    {
      "cell_type": "code",
      "source": [
        "# Note again that this actually returns a new dataframe and doesn't change the current one.\n",
        "ppl_df"
      ],
      "metadata": {
        "id": "-O_jla5P6o1x"
      },
      "execution_count": null,
      "outputs": []
    },
    {
      "cell_type": "code",
      "source": [
        "# Concatenate dataframes.\n",
        "people = {\n",
        "  'first': ['Bob', 'John'],\n",
        "  'last': ['Bobson', 'Johnson'],\n",
        "  'email': ['bob@email.com', 'john@email.com']\n",
        "}\n",
        "ppl_df2 = pd.DataFrame(people)\n",
        "# Note that the columns don't match in order and in number. Also, there are conflicting indices.\n",
        "ppl_df2"
      ],
      "metadata": {
        "id": "jSJ-PHWr6_C0"
      },
      "execution_count": null,
      "outputs": []
    },
    {
      "cell_type": "code",
      "source": [
        "ppl_df = ppl_df.append(ppl_df2, ignore_index=True)\n",
        "ppl_df"
      ],
      "metadata": {
        "id": "qXxLZLrw7FkS"
      },
      "execution_count": null,
      "outputs": []
    },
    {
      "cell_type": "code",
      "source": [
        "# Remove rows by index.\n",
        "ppl_df.drop(index=3)"
      ],
      "metadata": {
        "id": "AEII6iwZ8e1l"
      },
      "execution_count": null,
      "outputs": []
    },
    {
      "cell_type": "code",
      "source": [
        "# Remove columns by a predicate\n",
        "\n",
        "# Remove all rows that have last name `Doe`.\n",
        "pred = (ppl_df['last'] == 'Doe')\n",
        "ppl_df.drop(index=ppl_df[pred].index)"
      ],
      "metadata": {
        "id": "ksaHkyMJ88N6"
      },
      "execution_count": null,
      "outputs": []
    },
    {
      "cell_type": "markdown",
      "source": [
        "## Sorting Data"
      ],
      "metadata": {
        "id": "tEiNbHIw9_cL"
      }
    },
    {
      "cell_type": "code",
      "source": [
        "# Add a new entry `Adam`.\n",
        "ppl_df = ppl_df.append({\n",
        "    'first': 'Adam',\n",
        "    'last': 'Doe',\n",
        "    'email': 'a@email.com',\n",
        "}, ignore_index=True)\n",
        "ppl_df"
      ],
      "metadata": {
        "id": "2qEi07zs-zXL"
      },
      "execution_count": null,
      "outputs": []
    },
    {
      "cell_type": "code",
      "source": [
        "# Drop the name column.\n",
        "ppl_df = ppl_df.drop(['name'], axis=1)\n",
        "ppl_df"
      ],
      "metadata": {
        "id": "V7EqxqE2_MID"
      },
      "execution_count": null,
      "outputs": []
    },
    {
      "cell_type": "code",
      "source": [
        "# Sort values by last name in ascending order.\n",
        "ppl_df.sort_values(by='last')"
      ],
      "metadata": {
        "id": "Te_-_TCK9UQN"
      },
      "execution_count": null,
      "outputs": []
    },
    {
      "cell_type": "code",
      "source": [
        "# Sort values by last name in descending order.\n",
        "ppl_df.sort_values(by='last', ascending=False)"
      ],
      "metadata": {
        "id": "xTDwNdNk-PqD"
      },
      "execution_count": null,
      "outputs": []
    },
    {
      "cell_type": "code",
      "source": [
        "# Sort by multiple columns.\n",
        "ppl_df.sort_values(by=['last', 'first'], ascending=False)"
      ],
      "metadata": {
        "id": "ANO_YYFA-Xtw"
      },
      "execution_count": null,
      "outputs": []
    },
    {
      "cell_type": "code",
      "source": [
        "# Sort the last name in descending order but sort the first name in ascending order.\n",
        "ppl_df.sort_values(by=['last', 'first'], ascending=[False, True])"
      ],
      "metadata": {
        "id": "tlTDgM17-juf"
      },
      "execution_count": null,
      "outputs": []
    },
    {
      "cell_type": "code",
      "source": [
        "# Notice how the indices are not sorted. Let's ignore them when sorting the values.\n",
        "ppl_df = ppl_df.sort_values(by=['last', 'first'], ascending=[False, True], ignore_index=True)\n",
        "ppl_df"
      ],
      "metadata": {
        "id": "aXXuNJJW_26f"
      },
      "execution_count": null,
      "outputs": []
    },
    {
      "cell_type": "code",
      "source": [
        "# We can also sort series objects.\n",
        "ppl_df['last'].sort_values()"
      ],
      "metadata": {
        "id": "70LDcw0dAO6a"
      },
      "execution_count": null,
      "outputs": []
    },
    {
      "cell_type": "code",
      "source": [
        "# Sort result by country name.\n",
        "df = df.sort_values(by='Country')\n",
        "df"
      ],
      "metadata": {
        "id": "QbLZsVzPAet6"
      },
      "execution_count": null,
      "outputs": []
    },
    {
      "cell_type": "code",
      "source": [
        "# Sort the countries in asceding order and the salaries in descending order.\n",
        "df[['Country', 'SalaryUSD']]"
      ],
      "metadata": {
        "id": "aU8rjPBzA53o"
      },
      "execution_count": null,
      "outputs": []
    },
    {
      "cell_type": "code",
      "source": [
        "df = df.sort_values(by=['Country', 'SalaryUSD'], ascending=[True, False])\n",
        "df[['Country', 'SalaryUSD']]"
      ],
      "metadata": {
        "id": "c1AK--ynCHrB"
      },
      "execution_count": null,
      "outputs": []
    },
    {
      "cell_type": "code",
      "source": [
        "# Get the 10 highest salaries from the survey.\n",
        "df['SalaryUSD'].nlargest(10)"
      ],
      "metadata": {
        "id": "5ykmiT_wCu2C"
      },
      "execution_count": null,
      "outputs": []
    },
    {
      "cell_type": "code",
      "source": [
        "# Get the entries with the 10 highest salaries.\n",
        "df.nlargest(10, 'SalaryUSD')"
      ],
      "metadata": {
        "id": "GPqbTGHEDc_s"
      },
      "execution_count": null,
      "outputs": []
    },
    {
      "cell_type": "code",
      "source": [
        "# Get the entries with the 10 lowest salaries.\n",
        "df.nsmallest(10, 'SalaryUSD')"
      ],
      "metadata": {
        "id": "hnfWAJPZDyZf"
      },
      "execution_count": null,
      "outputs": []
    },
    {
      "cell_type": "markdown",
      "source": [
        "## Grouping and Aggregating - Analyzing and Exploring Your Data"
      ],
      "metadata": {
        "id": "3JpzUNbNE53M"
      }
    },
    {
      "cell_type": "code",
      "source": [
        "df = pd.read_csv(DATA_PATH)\n",
        "df"
      ],
      "metadata": {
        "id": "EyDqYue13bPi"
      },
      "execution_count": null,
      "outputs": []
    },
    {
      "cell_type": "code",
      "source": [
        "df = df.rename(columns={\n",
        "    'ConvertedCompYearly': 'SalaryUSD'\n",
        "})"
      ],
      "metadata": {
        "id": "YvdMFL2g3e_E"
      },
      "execution_count": null,
      "outputs": []
    },
    {
      "cell_type": "markdown",
      "source": [
        "> **Mean**: the average of a data set;\n",
        "\n",
        "> **Mode**: the most common number in a data set;\n",
        "\n",
        "> **Median**: the middle of the set of numbers.\n",
        "\n",
        "> **Aggregation**: taking multiple values and returning a single result;"
      ],
      "metadata": {
        "id": "K77-mzli4Dp6"
      }
    },
    {
      "cell_type": "code",
      "source": [
        "# What is the most common salary?\n",
        "df['SalaryUSD'].median()"
      ],
      "metadata": {
        "id": "gH7_EsP7EWCO"
      },
      "execution_count": null,
      "outputs": []
    },
    {
      "cell_type": "code",
      "source": [
        "df.median(numeric_only=True)"
      ],
      "metadata": {
        "id": "HTWBSh593tfG"
      },
      "execution_count": null,
      "outputs": []
    },
    {
      "cell_type": "code",
      "source": [
        "df.describe()"
      ],
      "metadata": {
        "id": "WnCmPKos5Gaq"
      },
      "execution_count": null,
      "outputs": []
    },
    {
      "cell_type": "code",
      "source": [
        "# How many people gave information about their salary?\n",
        "df['SalaryUSD'].count()"
      ],
      "metadata": {
        "id": "3E402LQq5MvF"
      },
      "execution_count": null,
      "outputs": []
    },
    {
      "cell_type": "code",
      "source": [
        "df['SalaryUSD'].count() / df.shape[0]"
      ],
      "metadata": {
        "id": "FKpduH2r5haM"
      },
      "execution_count": null,
      "outputs": []
    },
    {
      "cell_type": "code",
      "source": [
        "# What percentage of the respondents have a StackOverflow account?\n",
        "df['SOAccount'].value_counts(normalize=True) # Preferred over: df['SOAccount'].value_counts() / df.shape[0]"
      ],
      "metadata": {
        "id": "O5xP9JZd5rk1"
      },
      "execution_count": null,
      "outputs": []
    },
    {
      "cell_type": "code",
      "source": [
        "# What is the most popular OS for work?\n",
        "schema_df.loc['OpSys', 'question']"
      ],
      "metadata": {
        "id": "x6jVby4_6m1k"
      },
      "execution_count": null,
      "outputs": []
    },
    {
      "cell_type": "code",
      "source": [
        "df['OpSys'].value_counts()"
      ],
      "metadata": {
        "id": "BxFjVKUH6IjB"
      },
      "execution_count": null,
      "outputs": []
    },
    {
      "cell_type": "code",
      "source": [
        "# What do people do when they get stuck on a problem?\n",
        "schema_df.loc['NEWStuck', 'question']"
      ],
      "metadata": {
        "id": "hFQLp9wL7XLZ"
      },
      "execution_count": null,
      "outputs": []
    },
    {
      "cell_type": "code",
      "source": [
        "df['NEWStuck'].value_counts().head(15)"
      ],
      "metadata": {
        "id": "urLQqjIg7fNE"
      },
      "execution_count": null,
      "outputs": []
    },
    {
      "cell_type": "markdown",
      "source": [
        "### **Grouping**: splitting into groups, applying a function, combining results."
      ],
      "metadata": {
        "id": "td7jKOP97xwI"
      }
    },
    {
      "cell_type": "code",
      "source": [
        "# Let's get a breakdown for the most popular OS by country.\n",
        "\n",
        "# Get the countries of the majority of respondents.\n",
        "df['Country'].value_counts()"
      ],
      "metadata": {
        "id": "3BBLlIdg8dSx"
      },
      "execution_count": null,
      "outputs": []
    },
    {
      "cell_type": "code",
      "source": [
        "country_group = df.groupby(['Country'])\n",
        "country_group # Splitting into groups."
      ],
      "metadata": {
        "id": "iGCoE_mC83HC"
      },
      "execution_count": null,
      "outputs": []
    },
    {
      "cell_type": "code",
      "source": [
        "country_group.get_group('United States of America')"
      ],
      "metadata": {
        "id": "Vx7QWJ2w9FS2"
      },
      "execution_count": null,
      "outputs": []
    },
    {
      "cell_type": "code",
      "source": [
        "# We can simulate groupby. However, the difference is that groupby does this\n",
        "# for every country.\n",
        "cond = (df['Country'] == 'United States of America')\n",
        "df[cond]"
      ],
      "metadata": {
        "id": "aKBtGrsm9NfA"
      },
      "execution_count": null,
      "outputs": []
    },
    {
      "cell_type": "code",
      "source": [
        "df[cond]['OpSys'].value_counts(normalize=True)"
      ],
      "metadata": {
        "id": "fn15qq7j9xK7"
      },
      "execution_count": null,
      "outputs": []
    },
    {
      "cell_type": "code",
      "source": [
        "country_group['OpSys'].value_counts(normalize=True).head(50) # Appyling a function."
      ],
      "metadata": {
        "id": "B0N-VJRs-siG"
      },
      "execution_count": null,
      "outputs": []
    },
    {
      "cell_type": "code",
      "source": [
        "country_group['OpSys'].value_counts(normalize=True).loc['Bulgaria']"
      ],
      "metadata": {
        "id": "C2Z_7ODu_HC0"
      },
      "execution_count": null,
      "outputs": []
    },
    {
      "cell_type": "code",
      "source": [
        "country_group['OpSys'].value_counts(normalize=True).loc['China']"
      ],
      "metadata": {
        "id": "l7vP36e__nNz"
      },
      "execution_count": null,
      "outputs": []
    },
    {
      "cell_type": "code",
      "source": [
        "country_group['OpSys'].value_counts(normalize=True).loc['Russian Federation']"
      ],
      "metadata": {
        "id": "l298nENf_sk4"
      },
      "execution_count": null,
      "outputs": []
    },
    {
      "cell_type": "code",
      "source": [
        "# Get the median salaries\n",
        "country_group['SalaryUSD'].median()"
      ],
      "metadata": {
        "id": "5qLu0Spu_yoY"
      },
      "execution_count": null,
      "outputs": []
    },
    {
      "cell_type": "code",
      "source": [
        "country_group['SalaryUSD'].median().loc['Germany']"
      ],
      "metadata": {
        "id": "nRg4Bf0RAcbt"
      },
      "execution_count": null,
      "outputs": []
    },
    {
      "cell_type": "code",
      "source": [
        "country_group['SalaryUSD'].median().loc['Bulgaria']"
      ],
      "metadata": {
        "id": "yC4iXweXEh7S"
      },
      "execution_count": null,
      "outputs": []
    },
    {
      "cell_type": "code",
      "source": [
        "country_group['SalaryUSD'].median().loc['United States of America']"
      ],
      "metadata": {
        "id": "l3GFT6XjEjac"
      },
      "execution_count": null,
      "outputs": []
    },
    {
      "cell_type": "code",
      "source": [
        "# See the median and mean salaries\n",
        "country_group['SalaryUSD'].agg(['median', 'mean'])"
      ],
      "metadata": {
        "id": "LsK6dTqdElxH"
      },
      "execution_count": null,
      "outputs": []
    },
    {
      "cell_type": "code",
      "source": [
        "# What percentage of people from each country know Python?\n",
        "\n",
        "# (note: using the following approaches we'll ignore NaN values)\n",
        "\n",
        "# using the filtering approach. Works, but we'll have to manually go through each country.\n",
        "cond = (df['Country'] == 'India')\n",
        "df[cond]['LanguageHaveWorkedWith'].str.contains('Python').value_counts(normalize=True).loc[True]"
      ],
      "metadata": {
        "id": "On0Cs-laE0RX"
      },
      "execution_count": null,
      "outputs": []
    },
    {
      "cell_type": "code",
      "source": [
        "# using the groupby approach\n",
        "num_ppl_using_py_by_country = country_group['LanguageHaveWorkedWith'].apply(lambda x: x.str.contains('Python').sum() / x.count())\n",
        "num_ppl_using_py_by_country"
      ],
      "metadata": {
        "id": "olBMb1jeIk0d"
      },
      "execution_count": null,
      "outputs": []
    },
    {
      "cell_type": "code",
      "source": [
        "num_ppl_using_py_by_country.loc['India']"
      ],
      "metadata": {
        "id": "0Q0zb1BoI1M0"
      },
      "execution_count": null,
      "outputs": []
    },
    {
      "cell_type": "code",
      "source": [
        "num_ppl_using_py_by_country.loc['Bulgaria']"
      ],
      "metadata": {
        "id": "6Z2B31C6KFkj"
      },
      "execution_count": null,
      "outputs": []
    },
    {
      "cell_type": "code",
      "source": [
        "pd.DataFrame(num_ppl_using_py_by_country.sort_values(ascending=False))"
      ],
      "metadata": {
        "id": "IDC7xaa5G-IZ"
      },
      "execution_count": null,
      "outputs": []
    },
    {
      "cell_type": "markdown",
      "source": [
        "## Cleaning Data - Casting Datatypes and Handling Missing Values"
      ],
      "metadata": {
        "id": "9iDcHW3gKxkg"
      }
    },
    {
      "cell_type": "code",
      "source": [
        "people = {\n",
        "    'first': ['SimoFirst', 'Jane', 'John', 'Chris', np.nan, None, 'NA'],\n",
        "    'last': ['SimoLast', 'Doe', 'Doe', 'Sirhc', np.nan, np.nan, 'Missing'],\n",
        "    'email': ['s.e.hristov99@gmail.com', 'JaneDoe@gmail.com', 'JohnDoe@gmail.com', None, np.nan, 'Anon@email.com', 'NA'],\n",
        "    'age': ['33', '55', '63', '36', None, None, 'Missing'],\n",
        "}"
      ],
      "metadata": {
        "id": "6-okqhujK0nP"
      },
      "execution_count": null,
      "outputs": []
    },
    {
      "cell_type": "markdown",
      "source": [
        "> **Approach 1**: just remove the rows that have at least 1 missing value."
      ],
      "metadata": {
        "id": "QcOKq8uQL66r"
      }
    },
    {
      "cell_type": "code",
      "source": [
        "ppl_df = pd.DataFrame(people)\n",
        "ppl_df"
      ],
      "metadata": {
        "id": "IJ5t-uPmL6Aq"
      },
      "execution_count": null,
      "outputs": []
    },
    {
      "cell_type": "code",
      "source": [
        "ppl_df.dropna()\n",
        "# by default it is actually ppl_df.dropna(axis='index', how='any')\n",
        "# index -> drops rows\n",
        "# any -> if any columns has a missing values. Note: sometimes it might be ok,\n",
        "# if the person does not have an `age`."
      ],
      "metadata": {
        "id": "Op_bfMWxMH7y"
      },
      "execution_count": null,
      "outputs": []
    },
    {
      "cell_type": "code",
      "source": [
        "# remove rows if all columns have missing values\n",
        "ppl_df.dropna(how='all')"
      ],
      "metadata": {
        "id": "sO1ofeA3MO6Q"
      },
      "execution_count": null,
      "outputs": []
    },
    {
      "cell_type": "code",
      "source": [
        "# remove columns if all rows have missing values\n",
        "ppl_df.dropna(axis=1, how='all')  # Same as ppl_df.dropna(axis='columns', how='all')"
      ],
      "metadata": {
        "id": "fOx9DvJfM5ck"
      },
      "execution_count": null,
      "outputs": []
    },
    {
      "cell_type": "code",
      "source": [
        "# remove columns if any row has a missing value\n",
        "ppl_df.dropna(axis=1, how='any')"
      ],
      "metadata": {
        "id": "N_DqLTbjNrWe"
      },
      "execution_count": null,
      "outputs": []
    },
    {
      "cell_type": "code",
      "source": [
        "# remove entries with no emails\n",
        "ppl_df.dropna(axis=0, subset=['email'])"
      ],
      "metadata": {
        "id": "tb3Pnha4OBeW"
      },
      "execution_count": null,
      "outputs": []
    },
    {
      "cell_type": "code",
      "source": [
        "# remove entries if they don't have an email and last name\n",
        "ppl_df.dropna(axis=0, how='all', subset=['email', 'last'])"
      ],
      "metadata": {
        "id": "YOc7XdShOTAP"
      },
      "execution_count": null,
      "outputs": []
    },
    {
      "cell_type": "markdown",
      "source": [
        "> **Custom missing values**: substitue them with `np.nan` by using the `replace` method."
      ],
      "metadata": {
        "id": "00w9ybw0PUSb"
      }
    },
    {
      "cell_type": "code",
      "source": [
        "ppl_df = ppl_df.replace({\n",
        "    'Missing': np.nan,\n",
        "    'NA': np.nan,\n",
        "})"
      ],
      "metadata": {
        "id": "VZgu8wAEOpi4"
      },
      "execution_count": null,
      "outputs": []
    },
    {
      "cell_type": "code",
      "source": [
        "ppl_df.dropna()"
      ],
      "metadata": {
        "id": "3Z-Ha0aDPisj"
      },
      "execution_count": null,
      "outputs": []
    },
    {
      "cell_type": "markdown",
      "source": [
        "> **Approach 2**: full them in (impute them) using statistics about the column."
      ],
      "metadata": {
        "id": "j1KzJW1xP7HI"
      }
    },
    {
      "cell_type": "code",
      "source": [
        "ppl_df = pd.DataFrame(people).replace({\n",
        "    'Missing': np.nan,\n",
        "    'NA': np.nan,\n",
        "})\n",
        "ppl_df"
      ],
      "metadata": {
        "id": "N-L81HbGPqP6"
      },
      "execution_count": null,
      "outputs": []
    },
    {
      "cell_type": "code",
      "source": [
        "# for numerical values: fill in with the mean / mode / the mean value of the KNN\n",
        "# for categorical values: create a new category, for ex. 'missing'\n",
        "ppl_df.fillna('MISSING')"
      ],
      "metadata": {
        "id": "IUG34mKgQMz7"
      },
      "execution_count": null,
      "outputs": []
    },
    {
      "cell_type": "markdown",
      "source": [
        "**Casting**"
      ],
      "metadata": {
        "id": "PsRhr80WQ0rI"
      }
    },
    {
      "cell_type": "code",
      "source": [
        "ppl_df.fillna(0)"
      ],
      "metadata": {
        "id": "5KNpJXzsQX2T"
      },
      "execution_count": null,
      "outputs": []
    },
    {
      "cell_type": "code",
      "source": [
        "ppl_df.info()"
      ],
      "metadata": {
        "id": "4PthcOXlQ29M"
      },
      "execution_count": null,
      "outputs": []
    },
    {
      "cell_type": "code",
      "source": [
        "# because the `age` column is of type `object` we cannot get its mean\n",
        "# ppl_df['age'].mean()"
      ],
      "metadata": {
        "id": "xS-nSH4sQ44M"
      },
      "execution_count": null,
      "outputs": []
    },
    {
      "cell_type": "code",
      "source": [
        "# the NaN value is actually a float 'under the hood'\n",
        "type(np.nan)"
      ],
      "metadata": {
        "id": "tAS26_EoRIKG"
      },
      "execution_count": null,
      "outputs": []
    },
    {
      "cell_type": "code",
      "source": [
        "# so we cannot cast to integers directly (i.e. without substitution or removal)\n",
        "# ppl_df['age'] = ppl_df['age'].astype(np.int32)"
      ],
      "metadata": {
        "id": "7R4buAxERY8A"
      },
      "execution_count": null,
      "outputs": []
    },
    {
      "cell_type": "code",
      "source": [
        "# because it is a numerical variable, let's substitute is with the mean\n",
        "ppl_df['age'] = ppl_df['age'].astype(np.float32)\n",
        "ppl_df['age']"
      ],
      "metadata": {
        "id": "OT3L7e4HVDpL"
      },
      "execution_count": null,
      "outputs": []
    },
    {
      "cell_type": "code",
      "source": [
        "ppl_df['age'] = ppl_df['age'].fillna(ppl_df['age'].mean())\n",
        "ppl_df"
      ],
      "metadata": {
        "id": "LEsLlldySNqs"
      },
      "execution_count": null,
      "outputs": []
    },
    {
      "cell_type": "code",
      "source": [
        "ppl_df.info()"
      ],
      "metadata": {
        "id": "CaJ80X_8R-21"
      },
      "execution_count": null,
      "outputs": []
    },
    {
      "cell_type": "code",
      "source": [
        "ppl_df['age'].mean()"
      ],
      "metadata": {
        "id": "AcFa_MQ1SDlH"
      },
      "execution_count": null,
      "outputs": []
    },
    {
      "cell_type": "code",
      "source": [
        "# What is the average number of years of coding experience?\n",
        "df['YearsCode'].head(10)"
      ],
      "metadata": {
        "id": "hM5nQ1jfWgOI"
      },
      "execution_count": null,
      "outputs": []
    },
    {
      "cell_type": "code",
      "source": [
        "# Note that the column has a dtype `object`!\n",
        "# That means that we can neither take the mean:\n",
        "# df['YearsCode'].mean()"
      ],
      "metadata": {
        "id": "iraw3Vf-W3wQ"
      },
      "execution_count": null,
      "outputs": []
    },
    {
      "cell_type": "code",
      "source": [
        "# nor can we cast to float\n",
        "# df['YearsCode'].astype(np.float)"
      ],
      "metadata": {
        "id": "MA4LN0eDW59p"
      },
      "execution_count": null,
      "outputs": []
    },
    {
      "cell_type": "code",
      "source": [
        "# however, the good thing about this error is that it shows us\n",
        "# what the problem actually is - we have a string as an entry\n",
        "\n",
        "# in order to deal with this problem, we'll replace\n",
        "# all the strings with a number\n",
        "df['YearsCode'].unique()"
      ],
      "metadata": {
        "id": "Y3dVdwPIXcEF"
      },
      "execution_count": null,
      "outputs": []
    },
    {
      "cell_type": "code",
      "source": [
        "df['YearsCode'] = df['YearsCode'].replace({\n",
        "    'Less than 1 year': 0,\n",
        "    'More than 50 years': 51,\n",
        "})\n",
        "df['YearsCode'].unique()"
      ],
      "metadata": {
        "id": "2sPgI2YoX2KB"
      },
      "execution_count": null,
      "outputs": []
    },
    {
      "cell_type": "code",
      "source": [
        "# now we can convert to float\n",
        "df['YearsCode'] = df['YearsCode'].astype(np.float32)\n",
        "df['YearsCode']"
      ],
      "metadata": {
        "id": "8vuVT3eCYIdT"
      },
      "execution_count": null,
      "outputs": []
    },
    {
      "cell_type": "code",
      "source": [
        "df['YearsCode'].mean()"
      ],
      "metadata": {
        "id": "M9h-RHPbYdTS"
      },
      "execution_count": null,
      "outputs": []
    },
    {
      "cell_type": "code",
      "source": [
        "df['YearsCode'].mode()[0]"
      ],
      "metadata": {
        "id": "PhUpNrVEYm-R"
      },
      "execution_count": null,
      "outputs": []
    },
    {
      "cell_type": "code",
      "source": [
        "df['YearsCode'].median()"
      ],
      "metadata": {
        "id": "iiOVqoyTYoOq"
      },
      "execution_count": null,
      "outputs": []
    },
    {
      "cell_type": "markdown",
      "source": [
        "## Reading/Writing Data to Different Sources - Excel, JSON, SQL, Etc"
      ],
      "metadata": {
        "id": "Nh2kDOvej6gL"
      }
    },
    {
      "cell_type": "markdown",
      "source": [
        "We'll pretend that we only need the results for Bulgaria. Let's save them as a `csv` to show how it's done."
      ],
      "metadata": {
        "id": "xOlUqCrSCkM8"
      }
    },
    {
      "cell_type": "code",
      "source": [
        "# We say that the table already has a column that can act as an index.\n",
        "# Let's use it.\n",
        "\n",
        "df = pd.read_csv(DATA_PATH, index_col='ResponseId')\n",
        "df"
      ],
      "metadata": {
        "id": "H82oZ9eXC0DB"
      },
      "execution_count": null,
      "outputs": []
    },
    {
      "cell_type": "code",
      "source": [
        "# Get the results from bulgarian developers.\n",
        "cond = (df['Country'] == 'Bulgaria')\n",
        "df[cond]"
      ],
      "metadata": {
        "id": "VTh-CWvWDV-q"
      },
      "execution_count": null,
      "outputs": []
    },
    {
      "cell_type": "code",
      "source": [
        "# Export this dataframe to a new csv file.\n",
        "df.to_csv('results_for_bulgaria.csv')"
      ],
      "metadata": {
        "id": "nV6X1QmPDg4D"
      },
      "execution_count": null,
      "outputs": []
    },
    {
      "cell_type": "markdown",
      "source": [
        "# For Home"
      ],
      "metadata": {
        "id": "Eq1G1kPSYdhS"
      }
    },
    {
      "cell_type": "markdown",
      "source": [
        "Choose a dataset from a previous year and analyse it using Pandas!"
      ],
      "metadata": {
        "id": "y7d6fTIDZvdO"
      }
    }
  ]
}