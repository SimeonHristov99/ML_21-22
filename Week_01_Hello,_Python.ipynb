{
  "nbformat": 4,
  "nbformat_minor": 0,
  "metadata": {
    "colab": {
      "name": "Week_01 - Hello, Python.ipynb",
      "provenance": [],
      "collapsed_sections": [],
      "authorship_tag": "ABX9TyMFTs4pvmcf51q/EgaEDPXF",
      "include_colab_link": true
    },
    "kernelspec": {
      "name": "python3",
      "display_name": "Python 3"
    },
    "language_info": {
      "name": "python"
    }
  },
  "cells": [
    {
      "cell_type": "markdown",
      "metadata": {
        "id": "view-in-github",
        "colab_type": "text"
      },
      "source": [
        "<a href=\"https://colab.research.google.com/github/SimeonHristov99/ML_21-22/blob/main/Week_01_Hello%2C_Python.ipynb\" target=\"_parent\"><img src=\"https://colab.research.google.com/assets/colab-badge.svg\" alt=\"Open In Colab\"/></a>"
      ]
    },
    {
      "cell_type": "markdown",
      "source": [
        "# Hello, Python!"
      ],
      "metadata": {
        "id": "kuOoRyThTCQm"
      }
    },
    {
      "cell_type": "markdown",
      "source": [
        "## Introduction"
      ],
      "metadata": {
        "id": "RbZlp6bWjuw2"
      }
    },
    {
      "cell_type": "markdown",
      "source": [
        "Notebooks are composed of editable blocks (called \"cells\") of text and code."
      ],
      "metadata": {
        "id": "ZfgIi69TVtyI"
      }
    },
    {
      "cell_type": "markdown",
      "source": [
        "I am a text cell :). Double click to edit me."
      ],
      "metadata": {
        "id": "yn86IDmHWET-"
      }
    },
    {
      "cell_type": "code",
      "source": [
        "# I am a code cell :). Click one time to edit me."
      ],
      "metadata": {
        "id": "3NR3bk8OWBUI"
      },
      "execution_count": 23,
      "outputs": []
    },
    {
      "cell_type": "markdown",
      "source": [
        "Run a cell: click on the cell and press `Ctrl + Enter`. If you press `Shift + Enter`, you'll execute the current cell and go to the next cell."
      ],
      "metadata": {
        "id": "8oHsf-tOVvFl"
      }
    },
    {
      "cell_type": "markdown",
      "source": [
        "Shortcuts:\n",
        "\n",
        "- `Ctrl + Shift + Space`: See docstring.\n",
        "- `Ctrl + M + B`: New code cell.\n",
        "- `Ctrl + M + M`: Turn code cell into markdown cell.\n",
        "- `Ctrl + M + D`: Delete cell."
      ],
      "metadata": {
        "id": "nsU-W0DtVwXL"
      }
    },
    {
      "cell_type": "markdown",
      "source": [
        "Notes:\n",
        "\n",
        "- Basic Python operations\n",
        "\n",
        "| Operator | Name           | Description                                    |\n",
        "| -------- | -------------- | ---------------------------------------------- |\n",
        "| a + b    | Addition       | Sum of a and b                                 |\n",
        "| a - b    | Subtraction    | Difference of a and b                          |\n",
        "| a * b    | Multiplication | Product of a and b                             |\n",
        "| a / b    | True division  | Quotient of a and b                            |\n",
        "| a // b   | Floor division | Quotient of a and b, removing fractional parts |\n",
        "| a % b    | Modulus        | Integer remainder after division of a by b     |\n",
        "| a ** b   | Exponentiation | a raised to the power of b                     |\n",
        "| -a       | Negation       | The negative of a                              |\n",
        "\n",
        "- `type(19.95)`: Check the type of a variable or a constant.\n",
        "- `abs(-32)` --> 32\n",
        "- `float(10)` --> 10.0\n",
        "- `int(3.33)` --> 3\n",
        "- `str(3.33)` --> '3.33'"
      ],
      "metadata": {
        "id": "FsMT_yZCgE7l"
      }
    },
    {
      "cell_type": "markdown",
      "source": [
        "## Basics"
      ],
      "metadata": {
        "id": "MafAwtYKi3ZS"
      }
    },
    {
      "cell_type": "code",
      "source": [
        "# create a variable called color with an appropriate value and print it\n"
      ],
      "metadata": {
        "id": "3G8VmNwfi4GN"
      },
      "execution_count": 24,
      "outputs": []
    },
    {
      "cell_type": "code",
      "source": [
        "pi = 3.14159 # approximate\n",
        "diameter = 3\n",
        "\n",
        "# Create a variable called 'radius' equal to half the diameter\n",
        "\n",
        "\n",
        "# Create a variable called 'area', using the formula for the area of a circle: pi times the radius squared\n"
      ],
      "metadata": {
        "id": "CX0pVmP-i9FG"
      },
      "execution_count": 25,
      "outputs": []
    },
    {
      "cell_type": "code",
      "source": [
        "a = [1, 2, 3]\n",
        "b = [3, 2, 1]\n",
        "\n",
        "# Swap the values to which a and b refer.\n",
        "\n",
        "\n",
        "# Reverse a\n"
      ],
      "metadata": {
        "id": "I1pDK5sZjTsW"
      },
      "execution_count": 26,
      "outputs": []
    },
    {
      "cell_type": "code",
      "source": [
        "# Add parentheses and operators to the following expression so that it evaluates to 1.\n",
        "# 5 3 2"
      ],
      "metadata": {
        "id": "sFvc5AwWjfv5"
      },
      "execution_count": 27,
      "outputs": []
    },
    {
      "cell_type": "code",
      "source": [
        "# In case you need a documentation for a particular function\n",
        "help(round)"
      ],
      "metadata": {
        "colab": {
          "base_uri": "https://localhost:8080/"
        },
        "id": "-MsWB8o9j6bU",
        "outputId": "092cc44e-d6ae-4e7a-8bd5-08c0b5f668ac"
      },
      "execution_count": 28,
      "outputs": [
        {
          "output_type": "stream",
          "name": "stdout",
          "text": [
            "Help on built-in function round in module builtins:\n",
            "\n",
            "round(number, ndigits=None)\n",
            "    Round a number to a given precision in decimal digits.\n",
            "    \n",
            "    The return value is an integer if ndigits is omitted or None.  Otherwise\n",
            "    the return value has the same type as the number.  ndigits may be negative.\n",
            "\n"
          ]
        }
      ]
    },
    {
      "cell_type": "markdown",
      "source": [
        "`help()` displays two things:\n",
        "\n",
        "  1. the header of that function `round(number, ndigits=None)`. In this case, this tells us that `round()` takes an argument we can describe as number. Additionally, we can optionally give a separate argument which could be described as `ndigits`.\n",
        "  2. A brief description of what the function does.\n",
        "\n",
        "> **Common pitfall**: when you're looking up a function, remember to pass in the name of the function itself, and not the result of calling that function."
      ],
      "metadata": {
        "id": "spJIAdhhkF2c"
      }
    },
    {
      "cell_type": "markdown",
      "source": [
        "**Functions and Docstrings**"
      ],
      "metadata": {
        "id": "ml6Ljhkylxy1"
      }
    },
    {
      "cell_type": "code",
      "source": [
        "def least_difference(a, b, c):\n",
        "  \"\"\"Return the smallest difference between any two numbers\n",
        "  among a, b and c.\n",
        "  \n",
        "  >>> least_difference(1, 5, -5)\n",
        "  4\n",
        "  \"\"\"\n",
        "  pass"
      ],
      "metadata": {
        "id": "LhwthoXZlz3v"
      },
      "execution_count": 29,
      "outputs": []
    },
    {
      "cell_type": "code",
      "source": [
        "help(least_difference)"
      ],
      "metadata": {
        "colab": {
          "base_uri": "https://localhost:8080/"
        },
        "id": "JqmUkKJ8l162",
        "outputId": "3d9108f2-ec3d-4eeb-fbdb-394751a41532"
      },
      "execution_count": 30,
      "outputs": [
        {
          "output_type": "stream",
          "name": "stdout",
          "text": [
            "Help on function least_difference in module __main__:\n",
            "\n",
            "least_difference(a, b, c)\n",
            "    Return the smallest difference between any two numbers\n",
            "    among a, b and c.\n",
            "    \n",
            "    >>> least_difference(1, 5, -5)\n",
            "    4\n",
            "\n"
          ]
        }
      ]
    },
    {
      "cell_type": "markdown",
      "source": [
        "**Keyword (default) arguments**"
      ],
      "metadata": {
        "id": "QLcwfTEqmSEt"
      }
    },
    {
      "cell_type": "code",
      "source": [
        "def greet(who=\"Colin\"):\n",
        "    print(f'Hello, {who}')\n",
        "    \n"
      ],
      "metadata": {
        "id": "utG6PQQEmUUa"
      },
      "execution_count": 31,
      "outputs": []
    },
    {
      "cell_type": "code",
      "source": [
        ""
      ],
      "metadata": {
        "id": "feRfsT4mmWw9"
      },
      "execution_count": 31,
      "outputs": []
    },
    {
      "cell_type": "markdown",
      "source": [
        "**Lambda functions**"
      ],
      "metadata": {
        "id": "QANOtviQnNTL"
      }
    },
    {
      "cell_type": "code",
      "source": [
        ""
      ],
      "metadata": {
        "id": "rR7VrlFLnPX3"
      },
      "execution_count": 31,
      "outputs": []
    },
    {
      "cell_type": "markdown",
      "source": [
        "**Combining Boolean Values**\n",
        "\n",
        "You can combine boolean values using the standard concepts of \"and\", \"or\", and \"not\". In fact, the words to do this are: and, or, and not.\n",
        "\n",
        "With these, we can make our can_run_for_president function more accurate."
      ],
      "metadata": {
        "id": "Eih70rO5n2a5"
      }
    },
    {
      "cell_type": "code",
      "source": [
        "def can_run_for_president(age, is_natural_born_citizen):\n",
        "  \"\"\"Can someone of the given age and citizenship status run for president in the US?\"\"\"\n",
        "  # The US Constitution says you must be a natural born citizen *and* at least 35 years old\n",
        "  return is_natural_born_citizen and age >= 35\n",
        "\n",
        "print(can_run_for_president(19, True))\n",
        "print(can_run_for_president(55, False))\n",
        "print(can_run_for_president(55, True))"
      ],
      "metadata": {
        "colab": {
          "base_uri": "https://localhost:8080/"
        },
        "id": "tuSylIptoC3v",
        "outputId": "e68f2827-05ac-43e0-d923-a525807adee7"
      },
      "execution_count": 32,
      "outputs": [
        {
          "output_type": "stream",
          "name": "stdout",
          "text": [
            "False\n",
            "False\n",
            "True\n"
          ]
        }
      ]
    },
    {
      "cell_type": "markdown",
      "source": [
        "**Conditionals**\n",
        "\n",
        "Booleans are most useful when combined with conditional statements, using the keywords `if`, `elif`, and `else`."
      ],
      "metadata": {
        "id": "skDjKbNloeYn"
      }
    },
    {
      "cell_type": "code",
      "source": [
        "def inspect(x):\n",
        "  if x == 0:\n",
        "    print(x, \"is zero\")\n",
        "  elif x > 0:\n",
        "    print(x, \"is positive\")\n",
        "  elif x < 0:\n",
        "    print(x, \"is negative\")\n",
        "  else:\n",
        "    print(x, \"is unlike anything I've ever seen...\")\n",
        "\n",
        "inspect(0)\n",
        "inspect(-15)"
      ],
      "metadata": {
        "colab": {
          "base_uri": "https://localhost:8080/"
        },
        "id": "UzLUxhpJolQS",
        "outputId": "538b9506-0954-490b-ece4-271011dd438e"
      },
      "execution_count": 33,
      "outputs": [
        {
          "output_type": "stream",
          "name": "stdout",
          "text": [
            "0 is zero\n",
            "-15 is negative\n"
          ]
        }
      ]
    },
    {
      "cell_type": "code",
      "source": [
        "def f(x):\n",
        "  pass\n",
        "\n",
        "f(1)\n",
        "f(0)\n",
        "\n",
        "# How to get the following output?\n",
        "# Only printed when x is positive; x = 1\n",
        "# Also only printed when x is positive; x = 1\n",
        "# Always printed, regardless of x's value; x = 1\n",
        "# Always printed, regardless of x's value; x = 0"
      ],
      "metadata": {
        "id": "3WFLqJoJopS7"
      },
      "execution_count": 34,
      "outputs": []
    },
    {
      "cell_type": "markdown",
      "source": [
        "**Boolean conversion**\n",
        "\n",
        "We've seen `int()`, which turns things into `int`s, and `float()`, which turns things into `float`s. Python also has a `bool()` function which turns things into `bool`s."
      ],
      "metadata": {
        "id": "33XHnxlOpMaw"
      }
    },
    {
      "cell_type": "code",
      "source": [
        "print(bool(1)) # all numbers are treated as true, except 0\n",
        "print(bool(0))\n",
        "print(bool(\"asf\")) # all strings are treated as true, except the empty string \"\"\n",
        "print(bool(\"\"))"
      ],
      "metadata": {
        "colab": {
          "base_uri": "https://localhost:8080/"
        },
        "id": "LwOWsL7lpUuq",
        "outputId": "36bd77c2-03f5-4808-c26f-c68cf5ca949c"
      },
      "execution_count": 35,
      "outputs": [
        {
          "output_type": "stream",
          "name": "stdout",
          "text": [
            "True\n",
            "False\n",
            "True\n",
            "False\n"
          ]
        }
      ]
    },
    {
      "cell_type": "markdown",
      "source": [
        "> **Tip**: Generally empty sequences (strings, lists, tuples, dictionaries) are `false`y and the rest are `truth`y."
      ],
      "metadata": {
        "id": "bE_5G3j0pZ3C"
      }
    },
    {
      "cell_type": "markdown",
      "source": [
        "## Lists"
      ],
      "metadata": {
        "id": "q5NJjvZ5qm2P"
      }
    },
    {
      "cell_type": "code",
      "source": [
        "# A list can contain a mix of different types of variables\n",
        "my_favourite_things = [32, 'raindrops on roses', help]\n",
        "my_favourite_things"
      ],
      "metadata": {
        "colab": {
          "base_uri": "https://localhost:8080/"
        },
        "id": "A6NmCZUYqpgp",
        "outputId": "1f1c9dca-c83f-41b3-a691-26d8efae1317"
      },
      "execution_count": 36,
      "outputs": [
        {
          "output_type": "execute_result",
          "data": {
            "text/plain": [
              "[32,\n",
              " 'raindrops on roses',\n",
              " Type help() for interactive help, or help(object) for help about object.]"
            ]
          },
          "metadata": {},
          "execution_count": 36
        }
      ]
    },
    {
      "cell_type": "code",
      "source": [
        "my_favourite_things[1]"
      ],
      "metadata": {
        "colab": {
          "base_uri": "https://localhost:8080/",
          "height": 35
        },
        "id": "4vzKrOD8quI0",
        "outputId": "d256ba29-f0c6-4ed9-c6f4-387d0e89323f"
      },
      "execution_count": 37,
      "outputs": [
        {
          "output_type": "execute_result",
          "data": {
            "application/vnd.google.colaboratory.intrinsic+json": {
              "type": "string"
            },
            "text/plain": [
              "'raindrops on roses'"
            ]
          },
          "metadata": {},
          "execution_count": 37
        }
      ]
    },
    {
      "cell_type": "code",
      "source": [
        "my_favourite_things[-1]"
      ],
      "metadata": {
        "colab": {
          "base_uri": "https://localhost:8080/"
        },
        "id": "ZJ7uPfXIqwNh",
        "outputId": "c7963585-a436-48eb-b8b7-e11872d74fa0"
      },
      "execution_count": 38,
      "outputs": [
        {
          "output_type": "execute_result",
          "data": {
            "text/plain": [
              "Type help() for interactive help, or help(object) for help about object."
            ]
          },
          "metadata": {},
          "execution_count": 38
        }
      ]
    },
    {
      "cell_type": "code",
      "source": [
        "my_favourite_things[-2]"
      ],
      "metadata": {
        "colab": {
          "base_uri": "https://localhost:8080/",
          "height": 35
        },
        "id": "GimwT8Qkqxqu",
        "outputId": "1fdc0bdb-18ea-4b51-dfa3-fb79e3c7a7b9"
      },
      "execution_count": 39,
      "outputs": [
        {
          "output_type": "execute_result",
          "data": {
            "application/vnd.google.colaboratory.intrinsic+json": {
              "type": "string"
            },
            "text/plain": [
              "'raindrops on roses'"
            ]
          },
          "metadata": {},
          "execution_count": 39
        }
      ]
    },
    {
      "cell_type": "code",
      "source": [
        "my_favourite_things[1:]"
      ],
      "metadata": {
        "colab": {
          "base_uri": "https://localhost:8080/"
        },
        "id": "_GgT_h1CqzLY",
        "outputId": "d49e0a6e-3fba-48fe-81e7-ae841901e69f"
      },
      "execution_count": 40,
      "outputs": [
        {
          "output_type": "execute_result",
          "data": {
            "text/plain": [
              "['raindrops on roses',\n",
              " Type help() for interactive help, or help(object) for help about object.]"
            ]
          },
          "metadata": {},
          "execution_count": 40
        }
      ]
    },
    {
      "cell_type": "code",
      "source": [
        "my_favourite_things[0:1]"
      ],
      "metadata": {
        "colab": {
          "base_uri": "https://localhost:8080/"
        },
        "id": "epQC_U7kq09d",
        "outputId": "24d3b99d-14ba-4aef-ac6a-976b581d8d2b"
      },
      "execution_count": 41,
      "outputs": [
        {
          "output_type": "execute_result",
          "data": {
            "text/plain": [
              "[32]"
            ]
          },
          "metadata": {},
          "execution_count": 41
        }
      ]
    },
    {
      "cell_type": "code",
      "source": [
        "planets = ['Mercury', 'Venus', 'Earth', 'Mars', 'Jupiter', 'Saturn', 'Uranus', 'Neptune']\n",
        "planets[3] = 'Malacandra'\n",
        "planets"
      ],
      "metadata": {
        "colab": {
          "base_uri": "https://localhost:8080/"
        },
        "id": "7DEtMRBAq9U4",
        "outputId": "d725245d-a355-4ccd-dd10-c316c0518680"
      },
      "execution_count": 42,
      "outputs": [
        {
          "output_type": "execute_result",
          "data": {
            "text/plain": [
              "['Mercury',\n",
              " 'Venus',\n",
              " 'Earth',\n",
              " 'Malacandra',\n",
              " 'Jupiter',\n",
              " 'Saturn',\n",
              " 'Uranus',\n",
              " 'Neptune']"
            ]
          },
          "metadata": {},
          "execution_count": 42
        }
      ]
    },
    {
      "cell_type": "markdown",
      "source": [
        "**Useful list functions**"
      ],
      "metadata": {
        "id": "7arjipPurKqj"
      }
    },
    {
      "cell_type": "markdown",
      "source": [
        "Check out all of them [here](https://docs.python.org/3/tutorial/datastructures.html)."
      ],
      "metadata": {
        "id": "Cqm9Klsor-8a"
      }
    },
    {
      "cell_type": "code",
      "source": [
        "# How many planets are there?\n"
      ],
      "metadata": {
        "id": "eNCW4GXsrM-b"
      },
      "execution_count": 43,
      "outputs": []
    },
    {
      "cell_type": "code",
      "source": [
        "# The planets sorted in alphabetical order\n"
      ],
      "metadata": {
        "id": "FXl9bVPJrRDF"
      },
      "execution_count": 44,
      "outputs": []
    },
    {
      "cell_type": "code",
      "source": [
        "primes = [2, 3, 5, 7]\n",
        "\n",
        "# Find the sum of the prime numbers\n"
      ],
      "metadata": {
        "id": "UCrLbtE4rRgN"
      },
      "execution_count": 45,
      "outputs": []
    },
    {
      "cell_type": "code",
      "source": [
        "# Find the largest number\n"
      ],
      "metadata": {
        "id": "8cY2hDMfrVWt"
      },
      "execution_count": 46,
      "outputs": []
    },
    {
      "cell_type": "code",
      "source": [
        "# Add 'Pluto' to the list of planets.\n"
      ],
      "metadata": {
        "id": "NQTXZGX_rW6w"
      },
      "execution_count": 47,
      "outputs": []
    },
    {
      "cell_type": "code",
      "source": [
        "# Remove 'Pluto' from the list of planets.\n"
      ],
      "metadata": {
        "id": "d0wxPkQrrt4B"
      },
      "execution_count": 48,
      "outputs": []
    },
    {
      "cell_type": "code",
      "source": [
        "# Get the index of `Earth`\n"
      ],
      "metadata": {
        "id": "-RitsrMSrx_8"
      },
      "execution_count": 49,
      "outputs": []
    },
    {
      "cell_type": "code",
      "source": [
        "# Is `Earth` a planet?\n"
      ],
      "metadata": {
        "id": "sZC1F13Zr3iu"
      },
      "execution_count": 50,
      "outputs": []
    },
    {
      "cell_type": "code",
      "source": [
        "# Is `Pluto` a planet?\n"
      ],
      "metadata": {
        "id": "OtKKD9_hsO0N"
      },
      "execution_count": 51,
      "outputs": []
    },
    {
      "cell_type": "markdown",
      "source": [
        "## Tuples"
      ],
      "metadata": {
        "id": "FppBVDm4sX8O"
      }
    },
    {
      "cell_type": "code",
      "source": [
        "# Create a tuple from the numbers 1, 2 and 3\n"
      ],
      "metadata": {
        "id": "SFJ5JkqxsZcx"
      },
      "execution_count": 52,
      "outputs": []
    },
    {
      "cell_type": "code",
      "source": [
        ""
      ],
      "metadata": {
        "id": "ZRmGMttDsiBz"
      },
      "execution_count": 52,
      "outputs": []
    },
    {
      "cell_type": "markdown",
      "source": [
        "## Loops"
      ],
      "metadata": {
        "id": "f14RQNxxuMfW"
      }
    },
    {
      "cell_type": "code",
      "source": [
        "planets = ['Mercury', 'Venus', 'Earth', 'Mars', 'Jupiter', 'Saturn', 'Uranus', 'Neptune']\n",
        "# print all on 1 line\n"
      ],
      "metadata": {
        "id": "52IEiMZguNt-"
      },
      "execution_count": 53,
      "outputs": []
    },
    {
      "cell_type": "code",
      "source": [
        "s = 'steganograpHy is the practicE of conceaLing a file, message, image, or video within another fiLe, message, image, Or video.'\n",
        "# print all the uppercase letters in s again on 1 line\n"
      ],
      "metadata": {
        "id": "cDIEhUfLuXxc"
      },
      "execution_count": 54,
      "outputs": []
    },
    {
      "cell_type": "markdown",
      "source": [
        "**range()**\n",
        "\n",
        "`range()` is a function that returns a sequence of numbers. It turns out to be very useful for writing loops.\n",
        "\n",
        "For example, if we want to repeat some action 5 times."
      ],
      "metadata": {
        "id": "uJ7_pOUZumWu"
      }
    },
    {
      "cell_type": "code",
      "source": [
        "for i in range(5):\n",
        "  print(f'Doing important work. i={i}')"
      ],
      "metadata": {
        "colab": {
          "base_uri": "https://localhost:8080/"
        },
        "id": "WF8KL5V4uh7K",
        "outputId": "b1077796-bf14-417a-bd15-bb9d82a4a972"
      },
      "execution_count": 55,
      "outputs": [
        {
          "output_type": "stream",
          "name": "stdout",
          "text": [
            "Doing important work. i=0\n",
            "Doing important work. i=1\n",
            "Doing important work. i=2\n",
            "Doing important work. i=3\n",
            "Doing important work. i=4\n"
          ]
        }
      ]
    },
    {
      "cell_type": "code",
      "source": [
        "# How to get the following output?\n",
        "# The 0th planet is Mercury\n",
        "# The 1th planet is Venus\n",
        "# The 2th planet is Earth\n",
        "# The 3th planet is Mars\n",
        "# The 4th planet is Jupiter\n",
        "# The 5th planet is Saturn\n",
        "# The 6th planet is Uranus\n",
        "# The 7th planet is Neptune\n"
      ],
      "metadata": {
        "id": "WagER-OkvCKK"
      },
      "execution_count": 56,
      "outputs": []
    },
    {
      "cell_type": "markdown",
      "source": [
        "**List comprehension**"
      ],
      "metadata": {
        "id": "m9lmfgZUvmuY"
      }
    },
    {
      "cell_type": "code",
      "source": [
        "s = 'steganograpHy is the practicE of conceaLing a file, message, image, or video within another fiLe, message, image, Or video.'"
      ],
      "metadata": {
        "id": "I2PoDH6svnd9"
      },
      "execution_count": 57,
      "outputs": []
    },
    {
      "cell_type": "code",
      "source": [
        "# Resolve using LC\n"
      ],
      "metadata": {
        "id": "a3l6Q7YPv8IK"
      },
      "execution_count": 58,
      "outputs": []
    },
    {
      "cell_type": "code",
      "source": [
        "# Resolve using generators\n"
      ],
      "metadata": {
        "id": "ji8I7U-9vtQJ"
      },
      "execution_count": 59,
      "outputs": []
    },
    {
      "cell_type": "code",
      "source": [
        "# Resolve using higher order functions and partial function application\n"
      ],
      "metadata": {
        "id": "2RisJ83yv_ZL"
      },
      "execution_count": 60,
      "outputs": []
    },
    {
      "cell_type": "code",
      "source": [
        "# Get the squares of the numbers [0 .. 9] using a for-loop\n"
      ],
      "metadata": {
        "id": "tJdh7odrwsAA"
      },
      "execution_count": 61,
      "outputs": []
    },
    {
      "cell_type": "code",
      "source": [
        "# Get the squares of the numbers [0 .. 9] using LC\n"
      ],
      "metadata": {
        "id": "FAoDwLwkwZ0t"
      },
      "execution_count": 62,
      "outputs": []
    },
    {
      "cell_type": "code",
      "source": [
        "# Get the names of all planets with less than 6 characters using LC\n"
      ],
      "metadata": {
        "id": "dLLOcFpLw3hr"
      },
      "execution_count": 63,
      "outputs": []
    },
    {
      "cell_type": "code",
      "source": [
        "# How to get the following ouput?\n",
        "# ['VENUS!', 'EARTH!', 'MARS!']\n"
      ],
      "metadata": {
        "id": "4g7FT7e5w_zJ"
      },
      "execution_count": 64,
      "outputs": []
    },
    {
      "cell_type": "code",
      "source": [
        "# The SQL analogy\n"
      ],
      "metadata": {
        "id": "kiJpvxc7xJ87"
      },
      "execution_count": 65,
      "outputs": []
    },
    {
      "cell_type": "code",
      "source": [
        "# Use for-loop\n",
        "def count_negatives(nums):\n",
        "    \"\"\"Return the number of negative numbers in the given list.\n",
        "    \n",
        "    >>> count_negatives([5, -1, -2, 0, 3])\n",
        "    2\n",
        "    \"\"\"\n",
        "    pass"
      ],
      "metadata": {
        "id": "myQkabHSxY_S"
      },
      "execution_count": 66,
      "outputs": []
    },
    {
      "cell_type": "code",
      "source": [
        "# Use LC\n",
        "def count_negatives(nums):\n",
        "  pass"
      ],
      "metadata": {
        "id": "FREdqFX2xdLO"
      },
      "execution_count": 67,
      "outputs": []
    },
    {
      "cell_type": "code",
      "source": [
        "# Use higher order functions\n",
        "def count_negatives(nums):\n",
        "  pass"
      ],
      "metadata": {
        "id": "X1u_lTS1xbQs"
      },
      "execution_count": 68,
      "outputs": []
    },
    {
      "cell_type": "code",
      "source": [
        "# Use boolean implicit casting\n",
        "def count_negatives(nums):\n",
        "  pass"
      ],
      "metadata": {
        "id": "N-iUubOQyHIS"
      },
      "execution_count": 69,
      "outputs": []
    },
    {
      "cell_type": "markdown",
      "source": [
        "## Strings"
      ],
      "metadata": {
        "id": "7dxIxDfCzIsA"
      }
    },
    {
      "cell_type": "code",
      "source": [
        "# can be defined using either single or double quotation\n",
        "x = 'Pluto is a planet'\n",
        "y = \"Pluto is a planet\"\n",
        "x == y"
      ],
      "metadata": {
        "colab": {
          "base_uri": "https://localhost:8080/"
        },
        "id": "QHmqaM0SzJdW",
        "outputId": "ec7cb385-38d6-4821-8150-a35bc776ac42"
      },
      "execution_count": 70,
      "outputs": [
        {
          "output_type": "execute_result",
          "data": {
            "text/plain": [
              "True"
            ]
          },
          "metadata": {},
          "execution_count": 70
        }
      ]
    },
    {
      "cell_type": "code",
      "source": [
        "# Double quotes are convenient if your string contains a single quote character (e.g. representing an apostrophe).\n",
        "# Similarly, it's easy to create a string that contains double-quotes if you wrap it in single quotes\n",
        "\n",
        "print(\"Pluto's a planet!\")\n",
        "print('My dog is named \"Pluto\"')"
      ],
      "metadata": {
        "colab": {
          "base_uri": "https://localhost:8080/"
        },
        "id": "9uBVZaAqzKeK",
        "outputId": "e09a1f03-6be5-4785-bbcb-f5a946b8f76f"
      },
      "execution_count": 71,
      "outputs": [
        {
          "output_type": "stream",
          "name": "stdout",
          "text": [
            "Pluto's a planet!\n",
            "My dog is named \"Pluto\"\n"
          ]
        }
      ]
    },
    {
      "cell_type": "code",
      "source": [
        "# If we try to put a single quote character inside a single-quoted string, Python gets confused\n",
        "# 'Pluto's a planet!'"
      ],
      "metadata": {
        "id": "arQkRsHDzRQd"
      },
      "execution_count": 72,
      "outputs": []
    },
    {
      "cell_type": "markdown",
      "source": [
        "Python's triple quote syntax for strings lets us include newlines\n",
        "literally (i.e. by just hitting `Enter` on our keyboard, rather than using\n",
        "the special `\\n` sequence). We've already seen this in the docstrings we\n",
        "use to document our functions, but we can use them anywhere\n",
        "we want to define a string."
      ],
      "metadata": {
        "id": "SVdTHV1wzYaz"
      }
    },
    {
      "cell_type": "code",
      "source": [
        "hello = \"hello\\nworld\"\n",
        "print(hello)\n",
        "\n",
        "triplequoted_hello = \"\"\"hello\n",
        "world\"\"\"\n",
        "print(triplequoted_hello)\n",
        "triplequoted_hello == hello"
      ],
      "metadata": {
        "colab": {
          "base_uri": "https://localhost:8080/"
        },
        "id": "rPMfMPOZzdXt",
        "outputId": "9c3cd2e2-455e-4d62-e323-3c789aed97d6"
      },
      "execution_count": 73,
      "outputs": [
        {
          "output_type": "stream",
          "name": "stdout",
          "text": [
            "hello\n",
            "world\n",
            "hello\n",
            "world\n"
          ]
        },
        {
          "output_type": "execute_result",
          "data": {
            "text/plain": [
              "True"
            ]
          },
          "metadata": {},
          "execution_count": 73
        }
      ]
    },
    {
      "cell_type": "code",
      "source": [
        "# Indexing\n",
        "planet = 'Pluto'\n",
        "planet[0]"
      ],
      "metadata": {
        "colab": {
          "base_uri": "https://localhost:8080/",
          "height": 35
        },
        "id": "G_vvZvC8zl53",
        "outputId": "a9492d1e-014c-4607-ac09-e8ae1bf7537f"
      },
      "execution_count": 74,
      "outputs": [
        {
          "output_type": "execute_result",
          "data": {
            "application/vnd.google.colaboratory.intrinsic+json": {
              "type": "string"
            },
            "text/plain": [
              "'P'"
            ]
          },
          "metadata": {},
          "execution_count": 74
        }
      ]
    },
    {
      "cell_type": "code",
      "source": [
        "# Slicing\n",
        "planet[-3:]"
      ],
      "metadata": {
        "colab": {
          "base_uri": "https://localhost:8080/",
          "height": 35
        },
        "id": "r-gh0KnfzoDX",
        "outputId": "54e333f4-48c6-4952-d306-a1a6b6a53c53"
      },
      "execution_count": 75,
      "outputs": [
        {
          "output_type": "execute_result",
          "data": {
            "application/vnd.google.colaboratory.intrinsic+json": {
              "type": "string"
            },
            "text/plain": [
              "'uto'"
            ]
          },
          "metadata": {},
          "execution_count": 75
        }
      ]
    },
    {
      "cell_type": "code",
      "source": [
        "# How long is this string?\n"
      ],
      "metadata": {
        "id": "KPUue6fXzpHD"
      },
      "execution_count": 76,
      "outputs": []
    },
    {
      "cell_type": "code",
      "source": [
        "# How to get the following output?\n",
        "# ['P!', 'l!', 'u!', 't!', 'o!']"
      ],
      "metadata": {
        "id": "8cMmiqXjzr_E"
      },
      "execution_count": 77,
      "outputs": []
    },
    {
      "cell_type": "markdown",
      "source": [
        "> **Common pitfall**: Strings differ from lists is that they are immutable. We can't modify them."
      ],
      "metadata": {
        "id": "ZT1SHfuJz9CI"
      }
    },
    {
      "cell_type": "code",
      "source": [
        "# planet[0] = 'B'\n",
        "# planet.append doesn't work either"
      ],
      "metadata": {
        "id": "hbj5SrTGz6rw"
      },
      "execution_count": 78,
      "outputs": []
    },
    {
      "cell_type": "markdown",
      "source": [
        "**String methods**\n",
        "\n",
        "Like `list`, the type `str` has lots of very useful methods. See all of them [here](https://docs.python.org/3/library/stdtypes.html#string-methods)."
      ],
      "metadata": {
        "id": "KVBhaA860P9t"
      }
    },
    {
      "cell_type": "code",
      "source": [
        "# ALL CAPS\n",
        "claim = \"Pluto is a planet!\"\n"
      ],
      "metadata": {
        "id": "q8JdROul0QYZ"
      },
      "execution_count": 79,
      "outputs": []
    },
    {
      "cell_type": "code",
      "source": [
        "# all lowercase\n"
      ],
      "metadata": {
        "id": "jSVGu3Fo0s9R"
      },
      "execution_count": 80,
      "outputs": []
    },
    {
      "cell_type": "code",
      "source": [
        "# Searching for the first index of a substring\n",
        "claim.index('plan')"
      ],
      "metadata": {
        "colab": {
          "base_uri": "https://localhost:8080/"
        },
        "id": "V-NM_WJX0uA1",
        "outputId": "ae9818c9-cac3-40f6-9b80-12ff6c482491"
      },
      "execution_count": 81,
      "outputs": [
        {
          "output_type": "execute_result",
          "data": {
            "text/plain": [
              "11"
            ]
          },
          "metadata": {},
          "execution_count": 81
        }
      ]
    },
    {
      "cell_type": "code",
      "source": [
        "# Check if string starts with a substring\n"
      ],
      "metadata": {
        "id": "9Zu1cvLu0_yk"
      },
      "execution_count": 82,
      "outputs": []
    },
    {
      "cell_type": "code",
      "source": [
        "# Check if string ends with a substring\n"
      ],
      "metadata": {
        "id": "Wh7gJ20C1V4y"
      },
      "execution_count": 83,
      "outputs": []
    },
    {
      "cell_type": "markdown",
      "source": [
        "Going between strings and lists: `.split()` and `.join()`.\n",
        "\n",
        "`str.split()` turns a string into a list of smaller strings, breaking on whitespace by default. This is super useful for taking you from one big string to a list of words."
      ],
      "metadata": {
        "id": "WXL01CLe1ar5"
      }
    },
    {
      "cell_type": "code",
      "source": [
        "words = claim.split()\n",
        "words"
      ],
      "metadata": {
        "colab": {
          "base_uri": "https://localhost:8080/"
        },
        "id": "DMwODOn81XrW",
        "outputId": "d92bd9a6-7d3c-48ee-d5cf-dc816442e908"
      },
      "execution_count": 84,
      "outputs": [
        {
          "output_type": "execute_result",
          "data": {
            "text/plain": [
              "['Pluto', 'is', 'a', 'planet!']"
            ]
          },
          "metadata": {},
          "execution_count": 84
        }
      ]
    },
    {
      "cell_type": "code",
      "source": [
        "# Occasionally you'll want to split on something other than whitespace:\n",
        "datestr = '1956-01-31'\n",
        "year, month, day = datestr.split('-')\n",
        "year, month, day"
      ],
      "metadata": {
        "colab": {
          "base_uri": "https://localhost:8080/"
        },
        "id": "1_oqS6pp1klJ",
        "outputId": "13f48e81-80e5-46bc-d418-1d43994a2402"
      },
      "execution_count": 85,
      "outputs": [
        {
          "output_type": "execute_result",
          "data": {
            "text/plain": [
              "('1956', '01', '31')"
            ]
          },
          "metadata": {},
          "execution_count": 85
        }
      ]
    },
    {
      "cell_type": "markdown",
      "source": [
        "`str.join()` takes us in the other direction, sewing a list of strings up into one long string, using the string it was called on as a separator."
      ],
      "metadata": {
        "id": "Virn5IIh1oTI"
      }
    },
    {
      "cell_type": "code",
      "source": [
        "'/'.join([month, day, year])"
      ],
      "metadata": {
        "colab": {
          "base_uri": "https://localhost:8080/",
          "height": 35
        },
        "id": "UU3xAL1P1ny4",
        "outputId": "7eeb86a1-0abb-486d-ebbd-9bfb4d3762cf"
      },
      "execution_count": 86,
      "outputs": [
        {
          "output_type": "execute_result",
          "data": {
            "application/vnd.google.colaboratory.intrinsic+json": {
              "type": "string"
            },
            "text/plain": [
              "'01/31/1956'"
            ]
          },
          "metadata": {},
          "execution_count": 86
        }
      ]
    },
    {
      "cell_type": "markdown",
      "source": [
        "## Dictionaries\n",
        "\n",
        "A data structure for mapping keys to values."
      ],
      "metadata": {
        "id": "-zo_tgRU1yV3"
      }
    },
    {
      "cell_type": "code",
      "source": [
        "numbers = {'one':1, 'two':2, 'three':3}\n",
        "numbers"
      ],
      "metadata": {
        "colab": {
          "base_uri": "https://localhost:8080/"
        },
        "id": "gS-D8VG010Ar",
        "outputId": "66101692-78e5-440b-8083-38871e32f2d9"
      },
      "execution_count": 87,
      "outputs": [
        {
          "output_type": "execute_result",
          "data": {
            "text/plain": [
              "{'one': 1, 'three': 3, 'two': 2}"
            ]
          },
          "metadata": {},
          "execution_count": 87
        }
      ]
    },
    {
      "cell_type": "markdown",
      "source": [
        "In this case 'one', 'two', and 'three' are the keys, and 1, 2 and 3 are their corresponding values.\n",
        "\n",
        "Values are accessed via square bracket syntax similar to indexing into lists and strings."
      ],
      "metadata": {
        "id": "cBbL86TI15nl"
      }
    },
    {
      "cell_type": "code",
      "source": [
        "numbers.keys(), numbers.values()"
      ],
      "metadata": {
        "colab": {
          "base_uri": "https://localhost:8080/"
        },
        "id": "6ZAli13J16PX",
        "outputId": "32e24594-3a2e-4499-cb58-803f31828d16"
      },
      "execution_count": 88,
      "outputs": [
        {
          "output_type": "execute_result",
          "data": {
            "text/plain": [
              "(dict_keys(['one', 'two', 'three']), dict_values([1, 2, 3]))"
            ]
          },
          "metadata": {},
          "execution_count": 88
        }
      ]
    },
    {
      "cell_type": "code",
      "source": [
        "numbers['one']"
      ],
      "metadata": {
        "colab": {
          "base_uri": "https://localhost:8080/"
        },
        "id": "gk6QxzzM19Lw",
        "outputId": "0122761f-dce2-4da9-96c2-8f99454fc543"
      },
      "execution_count": 89,
      "outputs": [
        {
          "output_type": "execute_result",
          "data": {
            "text/plain": [
              "1"
            ]
          },
          "metadata": {},
          "execution_count": 89
        }
      ]
    },
    {
      "cell_type": "code",
      "source": [
        "# We can use the same syntax to add another key, value pair\n",
        "numbers['eleven'] = 11\n",
        "numbers"
      ],
      "metadata": {
        "colab": {
          "base_uri": "https://localhost:8080/"
        },
        "id": "Z5Ct_ffB1-l4",
        "outputId": "b25985d1-886f-408f-bcc7-23ef2a49d2e0"
      },
      "execution_count": 90,
      "outputs": [
        {
          "output_type": "execute_result",
          "data": {
            "text/plain": [
              "{'eleven': 11, 'one': 1, 'three': 3, 'two': 2}"
            ]
          },
          "metadata": {},
          "execution_count": 90
        }
      ]
    },
    {
      "cell_type": "code",
      "source": [
        "# Or to change the value associated with an existing key\n",
        "numbers['one'] = 'Pluto'\n",
        "numbers"
      ],
      "metadata": {
        "colab": {
          "base_uri": "https://localhost:8080/"
        },
        "id": "x2gv-7Fc2B6P",
        "outputId": "510e6492-95f7-4a58-857c-555709e08d6e"
      },
      "execution_count": 91,
      "outputs": [
        {
          "output_type": "execute_result",
          "data": {
            "text/plain": [
              "{'eleven': 11, 'one': 'Pluto', 'three': 3, 'two': 2}"
            ]
          },
          "metadata": {},
          "execution_count": 91
        }
      ]
    },
    {
      "cell_type": "code",
      "source": [
        "# Dict comprehensions!\n",
        "planets = ['Mercury', 'Venus', 'Earth', 'Mars', 'Jupiter', 'Saturn', 'Uranus', 'Neptune']\n",
        "\n",
        "# Map every name to its first letter\n"
      ],
      "metadata": {
        "id": "k3oN4s8p2E-3"
      },
      "execution_count": 92,
      "outputs": []
    },
    {
      "cell_type": "code",
      "source": [
        "# Check if a value is in the dictionary\n"
      ],
      "metadata": {
        "id": "j9vvgSY_2KKm"
      },
      "execution_count": 93,
      "outputs": []
    },
    {
      "cell_type": "code",
      "source": [
        "# A for loop over a dictionary will loop over its keys\n",
        "for k in numbers:\n",
        "  print(f'{k} => {numbers[k]}')"
      ],
      "metadata": {
        "colab": {
          "base_uri": "https://localhost:8080/"
        },
        "id": "ykYwLt6T2UQ0",
        "outputId": "ed589470-59b9-4885-acc9-4024ea955e4e"
      },
      "execution_count": 94,
      "outputs": [
        {
          "output_type": "stream",
          "name": "stdout",
          "text": [
            "one => Pluto\n",
            "two => 2\n",
            "three => 3\n",
            "eleven => 11\n"
          ]
        }
      ]
    },
    {
      "cell_type": "code",
      "source": [
        "# How can we loop over the dictionary so as to get both the key and value at each step?\n"
      ],
      "metadata": {
        "id": "Bj74lfTy2lcN"
      },
      "execution_count": 95,
      "outputs": []
    },
    {
      "cell_type": "code",
      "source": [
        "# Get all the initials, sort them alphabetically, and put them in a space-separated string.\n"
      ],
      "metadata": {
        "id": "TyHEIW6n2uIN"
      },
      "execution_count": 96,
      "outputs": []
    }
  ]
}