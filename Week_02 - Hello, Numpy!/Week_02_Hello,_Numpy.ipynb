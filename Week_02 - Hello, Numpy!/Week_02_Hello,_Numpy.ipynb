{
  "nbformat": 4,
  "nbformat_minor": 0,
  "metadata": {
    "colab": {
      "name": "Week_02 - Hello, Numpy.ipynb",
      "provenance": [],
      "collapsed_sections": [],
      "authorship_tag": "ABX9TyPb3qBKy30rqN7q11OxhJcA",
      "include_colab_link": true
    },
    "kernelspec": {
      "name": "python3",
      "display_name": "Python 3"
    },
    "language_info": {
      "name": "python"
    }
  },
  "cells": [
    {
      "cell_type": "markdown",
      "metadata": {
        "id": "view-in-github",
        "colab_type": "text"
      },
      "source": [
        "<a href=\"https://colab.research.google.com/github/SimeonHristov99/ML_21-22/blob/main/Week_02_Hello%2C_Numpy.ipynb\" target=\"_parent\"><img src=\"https://colab.research.google.com/assets/colab-badge.svg\" alt=\"Open In Colab\"/></a>"
      ]
    },
    {
      "cell_type": "markdown",
      "source": [
        "# Hello, [NumPy](https://numpy.org/doc/stable/reference/)!"
      ],
      "metadata": {
        "id": "AeHB0j-cDwJK"
      }
    },
    {
      "cell_type": "markdown",
      "source": [
        "## What is numpy?"
      ],
      "metadata": {
        "id": "1BYv1YQTDzah"
      }
    },
    {
      "cell_type": "markdown",
      "source": [
        "- (in short) The core library for scientific computing in Python.\n",
        "- (according to the official website) \"NumPy is the fundamental package for scientific computing in Python. It is a Python library that provides a multidimensional array object, various derived objects (such as masked arrays and matrices), and an assortment of routines for fast operations on arrays, including mathematical, logical, shape manipulation, sorting, selecting, I/O, discrete Fourier transforms, basic linear algebra, basic statistical operations, random simulation and much more.\""
      ],
      "metadata": {
        "id": "nc82FS-wE7TU"
      }
    },
    {
      "cell_type": "markdown",
      "source": [
        "**Why use numpy?**\n",
        "\n",
        "- Very fast!\n",
        "- Has a lot of built-in mathematical operations with arrays.\n",
        "- Most of its code is written in C.\n",
        "- Core library for pandas, matplotlib, sklearn!"
      ],
      "metadata": {
        "id": "KQQ_qewIF78A"
      }
    },
    {
      "cell_type": "markdown",
      "source": [
        "**What are some usecases?**\n",
        "- array/matrix operations (linear algebra) (dot product, cross product, inverse of a matrix, determinant of a matrix, eigenvectors, etc)\n",
        "- random numbers\n",
        "- working with images <- They are often represented as a 3-dimensional matrix with RGB values."
      ],
      "metadata": {
        "id": "MSi-fquEIY2O"
      }
    },
    {
      "cell_type": "markdown",
      "source": [
        "## Array basics"
      ],
      "metadata": {
        "id": "ZfOvboDvD1YJ"
      }
    },
    {
      "cell_type": "markdown",
      "source": [
        "**Axis**: Number of dimensions.\n",
        "\n",
        "**Shape**: Number of elements in each dimension.\n",
        "\n",
        "1D array:\n",
        "\n",
        "![1d_array](https://raw.githubusercontent.com/SimeonHristov99/ML_21-22/main/Week_02%20-%20Hello%2C%20Numpy!/assets/1d.png)\n",
        "\n",
        "2D array:\n",
        "\n",
        "![2d_array](https://raw.githubusercontent.com/SimeonHristov99/ML_21-22/main/Week_02%20-%20Hello%2C%20Numpy!/assets/2d.png)\n",
        "\n",
        "3D array:\n",
        "\n",
        "![3D array](https://raw.githubusercontent.com/SimeonHristov99/ML_21-22/main/Week_02%20-%20Hello%2C%20Numpy!/assets/3d.png)"
      ],
      "metadata": {
        "id": "DKWpucjVIFlH"
      }
    },
    {
      "cell_type": "code",
      "source": [
        "import numpy as np"
      ],
      "metadata": {
        "id": "RNH3cnmpGX4c"
      },
      "execution_count": 1,
      "outputs": []
    },
    {
      "cell_type": "code",
      "source": [
        "# Check the version of numpy\n"
      ],
      "metadata": {
        "id": "T1C3ZHcyJOg4"
      },
      "execution_count": null,
      "outputs": []
    },
    {
      "cell_type": "code",
      "source": [
        "# Create a numpy from the list [7, 2, 9, 10]\n",
        "# Note: Arrays are homogeneours. They can't hold multiple types\n",
        "\n",
        "\n",
        "# Print it\n"
      ],
      "metadata": {
        "id": "c22_XPTwSu0M"
      },
      "execution_count": null,
      "outputs": []
    },
    {
      "cell_type": "code",
      "source": [
        "# Check \"the shape\" of the array, i.e. how many elements are in each dimension\n"
      ],
      "metadata": {
        "id": "bBOpZuWKxejp"
      },
      "execution_count": null,
      "outputs": []
    },
    {
      "cell_type": "code",
      "source": [
        "# See what datatype is held in the array\n"
      ],
      "metadata": {
        "id": "D79wa-hxx50S"
      },
      "execution_count": null,
      "outputs": []
    },
    {
      "cell_type": "code",
      "source": [
        "# Check how many dimensions are in the array\n"
      ],
      "metadata": {
        "id": "yE_OSpWjyC_8"
      },
      "execution_count": null,
      "outputs": []
    },
    {
      "cell_type": "code",
      "source": [
        "# Get the total number of elements in the array\n",
        "# This is the same as if you multiply the values of the shape\n"
      ],
      "metadata": {
        "id": "d-9z2S3eyLgK"
      },
      "execution_count": null,
      "outputs": []
    },
    {
      "cell_type": "code",
      "source": [
        "# Get the number of elements along the first dimension\n",
        "len(a)"
      ],
      "metadata": {
        "id": "RNAmpiIyJ5wo"
      },
      "execution_count": null,
      "outputs": []
    },
    {
      "cell_type": "code",
      "source": [
        "a.itemsize # returns how much memory each element takes (in bytes)\n",
        "# Each element is 64 bits (seen from `a.dtype`),\n",
        "# so we get 8 bytes (= 64 bits) (1 byte = 8 bits)"
      ],
      "metadata": {
        "id": "G12IgxprJ72t"
      },
      "execution_count": null,
      "outputs": []
    },
    {
      "cell_type": "code",
      "source": [
        "# Indexing works like in lists.\n"
      ],
      "metadata": {
        "id": "df8bW-yRK5jM"
      },
      "execution_count": null,
      "outputs": []
    },
    {
      "cell_type": "code",
      "source": [
        "# Assigning values also works like in lists, i.e. arrays are mutable by default\n"
      ],
      "metadata": {
        "id": "jcL9rj0kLFPT"
      },
      "execution_count": null,
      "outputs": []
    },
    {
      "cell_type": "markdown",
      "source": [
        "Mathematical operations (sum, dot product, cross product, etc) work **ELEMENTWISE**."
      ],
      "metadata": {
        "id": "MXWn207vLYW8"
      }
    },
    {
      "cell_type": "code",
      "source": [
        ""
      ],
      "metadata": {
        "id": "81Tpz_RWLLXs"
      },
      "execution_count": null,
      "outputs": []
    },
    {
      "cell_type": "markdown",
      "source": [
        "## Array vs. List"
      ],
      "metadata": {
        "id": "6gCaLe_4D5Rc"
      }
    },
    {
      "cell_type": "markdown",
      "source": [
        "### Visual difference"
      ],
      "metadata": {
        "id": "hLLS9mFa37S8"
      }
    },
    {
      "cell_type": "code",
      "source": [
        ""
      ],
      "metadata": {
        "id": "4XzQKwLRLqBT"
      },
      "execution_count": null,
      "outputs": []
    },
    {
      "cell_type": "markdown",
      "source": [
        "### Appending elements"
      ],
      "metadata": {
        "id": "R5QgjORb33le"
      }
    },
    {
      "cell_type": "markdown",
      "source": [
        "You can append elements to lists"
      ],
      "metadata": {
        "id": "6kcbqwgG4Bx4"
      }
    },
    {
      "cell_type": "code",
      "source": [
        ""
      ],
      "metadata": {
        "id": "EwzMMseZL034"
      },
      "execution_count": null,
      "outputs": []
    },
    {
      "cell_type": "markdown",
      "source": [
        "But you **CANNOT APPEND** elements to an array"
      ],
      "metadata": {
        "id": "WW7BSuK3MDhk"
      }
    },
    {
      "cell_type": "code",
      "source": [
        ""
      ],
      "metadata": {
        "id": "bzVZUGhYMCcA"
      },
      "execution_count": null,
      "outputs": []
    },
    {
      "cell_type": "markdown",
      "source": [
        "In order to add an element a new array has to be created (using **np.append**) which is the concatenation of the old one and the new values."
      ],
      "metadata": {
        "id": "Gm8U49ipMufI"
      }
    },
    {
      "cell_type": "code",
      "source": [
        ""
      ],
      "metadata": {
        "id": "CIl3X8IuMMFu"
      },
      "execution_count": null,
      "outputs": []
    },
    {
      "cell_type": "code",
      "source": [
        "# Python lists and Python tuples are array-like objects for numpy.\n"
      ],
      "metadata": {
        "id": "Tvet1NeCM1w3"
      },
      "execution_count": null,
      "outputs": []
    },
    {
      "cell_type": "markdown",
      "source": [
        "### Adding a number to all elements"
      ],
      "metadata": {
        "id": "Zff_lQAx4MC5"
      }
    },
    {
      "cell_type": "code",
      "source": [
        "# It can't be done without some kind of iteration (map, loop, LC)\n",
        "# l + 4 # This won't even be accepted by the compiler\n",
        " # This will append a 4"
      ],
      "metadata": {
        "id": "KTbyk7o5NNMB"
      },
      "execution_count": null,
      "outputs": []
    },
    {
      "cell_type": "code",
      "source": [
        " # <- Broadcasting!\n",
        "# Under the hood it is actually `a + np.array([4, 4, 4])`"
      ],
      "metadata": {
        "id": "TNKUc9xPNTcI"
      },
      "execution_count": null,
      "outputs": []
    },
    {
      "cell_type": "code",
      "source": [
        ""
      ],
      "metadata": {
        "id": "EKASlT6dNhTQ"
      },
      "execution_count": null,
      "outputs": []
    },
    {
      "cell_type": "code",
      "source": [
        ""
      ],
      "metadata": {
        "id": "i-9uJUL8N4hp"
      },
      "execution_count": null,
      "outputs": []
    },
    {
      "cell_type": "code",
      "source": [
        "# Remember that mathematical operations work elementwise!\n"
      ],
      "metadata": {
        "id": "RMK6cRtjOCtr"
      },
      "execution_count": null,
      "outputs": []
    },
    {
      "cell_type": "code",
      "source": [
        "# Natural logarithm.\n"
      ],
      "metadata": {
        "id": "VWXSG8LuOMC5"
      },
      "execution_count": null,
      "outputs": []
    },
    {
      "cell_type": "markdown",
      "source": [
        "## Dot product"
      ],
      "metadata": {
        "id": "c5FRWIB6D7rk"
      }
    },
    {
      "cell_type": "code",
      "source": [
        "l1 = [1, 2, 3]\n",
        "l2 = [4, 5, 6]\n",
        "\n",
        " # Should be 32."
      ],
      "metadata": {
        "id": "x-60LQD4Oc_i"
      },
      "execution_count": null,
      "outputs": []
    },
    {
      "cell_type": "code",
      "source": [
        "a1 = np.array(l1)\n",
        "a2 = np.array(l2)\n",
        "\n"
      ],
      "metadata": {
        "id": "K8l_nlqeOmDi"
      },
      "execution_count": null,
      "outputs": []
    },
    {
      "cell_type": "markdown",
      "source": [
        "## Speed Test: Iterating over Python lists vs. Using np.array() operations."
      ],
      "metadata": {
        "id": "ONJhQNsKD9d7"
      }
    },
    {
      "cell_type": "code",
      "source": [
        "from timeit import default_timer as timer\n",
        "\n",
        "number_of_elements = 10000\n",
        "number_of_calls = 1000\n",
        "\n",
        "py_list = list(range(number_of_elements))\n",
        "np_arr = np.array(py_list)\n",
        "\n",
        "def add2_list():\n",
        "  pass\n",
        "\n",
        "def add2_np():\n",
        "  pass"
      ],
      "metadata": {
        "id": "EAuXBJk7PlfZ"
      },
      "execution_count": null,
      "outputs": []
    },
    {
      "cell_type": "code",
      "source": [
        "start = timer()\n",
        "\n",
        "for _ in range(number_of_calls):\n",
        "  add2_list()\n",
        "\n",
        "end = timer()\n",
        "\n",
        "time_python = end - start\n",
        "time_python"
      ],
      "metadata": {
        "id": "2rw2zmaIQmn5"
      },
      "execution_count": null,
      "outputs": []
    },
    {
      "cell_type": "code",
      "source": [
        "start = timer()\n",
        "\n",
        "for _ in range(number_of_calls):\n",
        "  add2_np()\n",
        "\n",
        "end = timer()\n",
        "\n",
        "time_np = end - start\n",
        "time_np"
      ],
      "metadata": {
        "id": "1rrbMpDqQubB"
      },
      "execution_count": null,
      "outputs": []
    },
    {
      "cell_type": "code",
      "source": [
        "# numpy operations are 80+ times faster than list operations\n",
        "time_python / time_np"
      ],
      "metadata": {
        "id": "YThv4GaCTcmm"
      },
      "execution_count": null,
      "outputs": []
    },
    {
      "cell_type": "markdown",
      "source": [
        "## Multidimensional arrays (nd-array)"
      ],
      "metadata": {
        "id": "6peXOJvvEBGE"
      }
    },
    {
      "cell_type": "code",
      "source": [
        "# Let's create one\n",
        "\n",
        "# Print it\n"
      ],
      "metadata": {
        "id": "TvuV_lUvUIBE"
      },
      "execution_count": null,
      "outputs": []
    },
    {
      "cell_type": "code",
      "source": [
        "# Check its shape"
      ],
      "metadata": {
        "id": "5oVYn6TWUWwZ"
      },
      "execution_count": null,
      "outputs": []
    },
    {
      "cell_type": "markdown",
      "source": [
        "## Array indexing / slicing / boolean indexing"
      ],
      "metadata": {
        "id": "40-mBO6VEG3F"
      }
    },
    {
      "cell_type": "code",
      "source": [
        "# Get the elements on the first row\n"
      ],
      "metadata": {
        "id": "Y5LcteHNUZVt"
      },
      "execution_count": null,
      "outputs": []
    },
    {
      "cell_type": "code",
      "source": [
        "# Get the left-most element\n"
      ],
      "metadata": {
        "id": "lG1RAbA2Uh59"
      },
      "execution_count": null,
      "outputs": []
    },
    {
      "cell_type": "code",
      "source": [
        "# Get the first element from all rows\n"
      ],
      "metadata": {
        "id": "vB6E2pEtUmI8"
      },
      "execution_count": null,
      "outputs": []
    },
    {
      "cell_type": "code",
      "source": [
        "# Get all elements from the first row\n",
        "\n",
        "# We can omit the `:` when it's the last `argument` of the slice\n"
      ],
      "metadata": {
        "id": "-gomgnwuUvv2"
      },
      "execution_count": null,
      "outputs": []
    },
    {
      "cell_type": "code",
      "source": [
        "# Transposing an array\n"
      ],
      "metadata": {
        "id": "8IJyR42qVAjL"
      },
      "execution_count": null,
      "outputs": []
    },
    {
      "cell_type": "code",
      "source": [
        "# Get the elements along the diagonal.\n",
        "\n",
        "# Note: a 1D array is returned"
      ],
      "metadata": {
        "id": "U9qF2uLhVlMu"
      },
      "execution_count": null,
      "outputs": []
    },
    {
      "cell_type": "code",
      "source": [
        "# If you pass a 1D vector to np.diag, it creates a square matrix with those elements on the diagonal and 0s everywhere else.\n"
      ],
      "metadata": {
        "id": "Xd_1S_9TVygs"
      },
      "execution_count": null,
      "outputs": []
    },
    {
      "cell_type": "code",
      "source": [
        "a = np.array([[1, 2, 3, 4], [5, 6, 7, 8]])\n",
        "a"
      ],
      "metadata": {
        "id": "X4Ox2iqQWEun"
      },
      "execution_count": null,
      "outputs": []
    },
    {
      "cell_type": "code",
      "source": [
        "# How to get only 6 and 7?\n"
      ],
      "metadata": {
        "id": "r2x8OKQfWl5C"
      },
      "execution_count": null,
      "outputs": []
    },
    {
      "cell_type": "code",
      "source": [
        "# How to get 8?\n"
      ],
      "metadata": {
        "id": "XcS_4FJGW06o"
      },
      "execution_count": null,
      "outputs": []
    },
    {
      "cell_type": "code",
      "source": [
        "a = np.array([[1, 2], [3, 4], [5, 6]])\n",
        "a, a.shape"
      ],
      "metadata": {
        "id": "sRqpt9etW2b3"
      },
      "execution_count": null,
      "outputs": []
    },
    {
      "cell_type": "code",
      "source": [
        "# Check whether the values are greater than 2\n"
      ],
      "metadata": {
        "id": "xdwWWLnBXGWk"
      },
      "execution_count": null,
      "outputs": []
    },
    {
      "cell_type": "code",
      "source": [
        "# Get the values greater than 2\n",
        "# Note: The return value is 1D\n"
      ],
      "metadata": {
        "id": "GHrMFUR2XOqE"
      },
      "execution_count": null,
      "outputs": []
    },
    {
      "cell_type": "code",
      "source": [
        "# Flatten an array in three ways\n"
      ],
      "metadata": {
        "id": "K_tjLfp-ba0u"
      },
      "execution_count": null,
      "outputs": []
    },
    {
      "cell_type": "code",
      "source": [
        "# Index using another array or list\n"
      ],
      "metadata": {
        "id": "bhN2f22F8SQx"
      },
      "execution_count": null,
      "outputs": []
    },
    {
      "cell_type": "code",
      "source": [
        "# Note a[1, 3, 5] will not work, because we don't have enough dimensions\n",
        "# It will assume that we're getting the\n",
        "# element at idx 1 from the first dimension\n",
        "# from it the element at idx 3 from the second dimension, etc \n"
      ],
      "metadata": {
        "id": "J_fIepNa8WkE"
      },
      "execution_count": null,
      "outputs": []
    },
    {
      "cell_type": "code",
      "source": [
        "# Substitute the values less than or equal to two -1.\n",
        "# Analogous to the ternary operator.\n"
      ],
      "metadata": {
        "id": "-nfoVuV7Xbwp"
      },
      "execution_count": null,
      "outputs": []
    },
    {
      "cell_type": "markdown",
      "source": [
        "## Reshape"
      ],
      "metadata": {
        "id": "Jeg-lb9IELKF"
      }
    },
    {
      "cell_type": "code",
      "source": [
        "# Generate an array with consecutive elements\n"
      ],
      "metadata": {
        "id": "qe9rLuZxZPNw"
      },
      "execution_count": null,
      "outputs": []
    },
    {
      "cell_type": "code",
      "source": [
        ""
      ],
      "metadata": {
        "id": "AsA__ZlqZSlz"
      },
      "execution_count": null,
      "outputs": []
    },
    {
      "cell_type": "code",
      "source": [
        ""
      ],
      "metadata": {
        "id": "pvQR3ogGZddY"
      },
      "execution_count": null,
      "outputs": []
    },
    {
      "cell_type": "code",
      "source": [
        "# Note: The product of the new shapes must equal the initial shape!\n"
      ],
      "metadata": {
        "id": "KlMHOMv5Zj3_"
      },
      "execution_count": null,
      "outputs": []
    },
    {
      "cell_type": "code",
      "source": [
        "# numpy can guess a shape\n",
        "# Note: Use -1 only for one dimension\n"
      ],
      "metadata": {
        "id": "GzWrf7umZwmQ"
      },
      "execution_count": null,
      "outputs": []
    },
    {
      "cell_type": "markdown",
      "source": [
        "### Create a new dimension"
      ],
      "metadata": {
        "id": "k_aKdocp8wmt"
      }
    },
    {
      "cell_type": "code",
      "source": [
        "a, a.shape"
      ],
      "metadata": {
        "id": "mrz8n-qvZynh"
      },
      "execution_count": null,
      "outputs": []
    },
    {
      "cell_type": "code",
      "source": [
        "# Add a new dimension on the left"
      ],
      "metadata": {
        "id": "AoM4TyPVZ8a5"
      },
      "execution_count": null,
      "outputs": []
    },
    {
      "cell_type": "code",
      "source": [
        "# Check the shape"
      ],
      "metadata": {
        "id": "3nSBl-i1Z_3g"
      },
      "execution_count": null,
      "outputs": []
    },
    {
      "cell_type": "code",
      "source": [
        "# Add a new dimension on the right"
      ],
      "metadata": {
        "id": "082iGULKaLpA"
      },
      "execution_count": null,
      "outputs": []
    },
    {
      "cell_type": "code",
      "source": [
        "# Check the shape"
      ],
      "metadata": {
        "id": "qSDfRvsBaPxJ"
      },
      "execution_count": null,
      "outputs": []
    },
    {
      "cell_type": "markdown",
      "source": [
        "## Concatenation"
      ],
      "metadata": {
        "id": "QfVUBREZEOR8"
      }
    },
    {
      "cell_type": "code",
      "source": [
        "a = np.reshape(np.arange(1, 5), (2, 2))\n",
        "a"
      ],
      "metadata": {
        "id": "IIXB1NwbaTzg"
      },
      "execution_count": null,
      "outputs": []
    },
    {
      "cell_type": "code",
      "source": [
        "b = np.array([[5, 6]])\n",
        "b"
      ],
      "metadata": {
        "id": "MX1zLqT_aokX"
      },
      "execution_count": null,
      "outputs": []
    },
    {
      "cell_type": "code",
      "source": [
        "# Concatenate along axis=0"
      ],
      "metadata": {
        "id": "J6HXkfugaui_"
      },
      "execution_count": null,
      "outputs": []
    },
    {
      "cell_type": "code",
      "source": [
        "# Axes must match exactly!\n"
      ],
      "metadata": {
        "id": "N_8_bzSca_Bq"
      },
      "execution_count": null,
      "outputs": []
    },
    {
      "cell_type": "code",
      "source": [
        "# In order to add the new elements as a column, we must transpose\n"
      ],
      "metadata": {
        "id": "r6abhNtMbOYw"
      },
      "execution_count": null,
      "outputs": []
    },
    {
      "cell_type": "code",
      "source": [
        "# You can flatten the result\n"
      ],
      "metadata": {
        "id": "AUZlLZcSa4Yc"
      },
      "execution_count": null,
      "outputs": []
    },
    {
      "cell_type": "markdown",
      "source": [
        "**hstack**: Add a new column"
      ],
      "metadata": {
        "id": "SwRsKt10bZfx"
      }
    },
    {
      "cell_type": "code",
      "source": [
        "a = np.array([1, 2, 3, 4])\n",
        "b = np.array([5, 6, 7, 8])\n",
        "\n",
        "np.hstack((a, b))"
      ],
      "metadata": {
        "id": "0DEUNUaNa5z3"
      },
      "execution_count": null,
      "outputs": []
    },
    {
      "cell_type": "markdown",
      "source": [
        "**vstack**: Add a new row"
      ],
      "metadata": {
        "id": "L9NazhjEbedR"
      }
    },
    {
      "cell_type": "code",
      "source": [
        "np.vstack((a, b))"
      ],
      "metadata": {
        "id": "HK-s1xvZbkBV"
      },
      "execution_count": null,
      "outputs": []
    },
    {
      "cell_type": "markdown",
      "source": [
        "## Broadcasting"
      ],
      "metadata": {
        "id": "mZHThTqIEQF8"
      }
    },
    {
      "cell_type": "markdown",
      "source": [
        "- a mechanism that allows numpy to work with arrays of different shapes"
      ],
      "metadata": {
        "id": "xaInkNO9Frf3"
      }
    },
    {
      "cell_type": "code",
      "source": [
        "x = np.array([[1, 2, 3], [4, 5, 6], [1, 2, 3], [4, 5, 6]])\n",
        "a = np.array([1, 0, 1])\n",
        "\n",
        "print(x)\n",
        "print(a)"
      ],
      "metadata": {
        "id": "-Vk_eZENb5vQ"
      },
      "execution_count": null,
      "outputs": []
    },
    {
      "cell_type": "code",
      "source": [
        "x.shape"
      ],
      "metadata": {
        "id": "HZrG2zLT9le_"
      },
      "execution_count": null,
      "outputs": []
    },
    {
      "cell_type": "code",
      "source": [
        "a.shape"
      ],
      "metadata": {
        "id": "fIqiz67Q9mus"
      },
      "execution_count": null,
      "outputs": []
    },
    {
      "cell_type": "code",
      "source": [
        "# Technically, we should have the same shape on both arrays, but numpy can automatically create it for us.\n"
      ],
      "metadata": {
        "id": "EdP2DTvPcHRL"
      },
      "execution_count": null,
      "outputs": []
    },
    {
      "cell_type": "markdown",
      "source": [
        "## Data Science Functions and Axes"
      ],
      "metadata": {
        "id": "WmUi-Aq3ESGc"
      }
    },
    {
      "cell_type": "code",
      "source": [
        "a = np.reshape(np.arange(7, 25), (2, -1))\n",
        "a"
      ],
      "metadata": {
        "id": "PTPAvg2AcdIh"
      },
      "execution_count": null,
      "outputs": []
    },
    {
      "cell_type": "code",
      "source": [
        "# Get the sum of all elements\n",
        "print(np.sum(a))\n",
        "print(np.sum(a, axis=None))\n",
        "print(a.sum())\n",
        "print(a.sum(axis=None))"
      ],
      "metadata": {
        "id": "N6PKozRMcuG6"
      },
      "execution_count": null,
      "outputs": []
    },
    {
      "cell_type": "code",
      "source": [
        " # Squish the rows (first dim)\n",
        " # Squish the cols (second dim)\n",
        " # Squish the last dimension (in this case the cols)"
      ],
      "metadata": {
        "id": "hbMP_mbCc4c5"
      },
      "execution_count": null,
      "outputs": []
    },
    {
      "cell_type": "code",
      "source": [
        "print(np.mean(a, axis=None))\n",
        "print(np.mean(a, axis=0))\n",
        "print(np.mean(a, axis=1))"
      ],
      "metadata": {
        "id": "ENnwLXf_dTJP"
      },
      "execution_count": null,
      "outputs": []
    },
    {
      "cell_type": "code",
      "source": [
        "print(np.var(a, axis=None))\n",
        "print(np.var(a, axis=0))\n",
        "print(np.var(a, axis=1))"
      ],
      "metadata": {
        "id": "PcGTF2auddfr"
      },
      "execution_count": null,
      "outputs": []
    },
    {
      "cell_type": "code",
      "source": [
        "print(np.std(a, axis=None))\n",
        "print(np.std(a, axis=0))\n",
        "print(np.std(a, axis=1))"
      ],
      "metadata": {
        "id": "wNaHnpE_du9s"
      },
      "execution_count": null,
      "outputs": []
    },
    {
      "cell_type": "code",
      "source": [
        "print(np.min(a, axis=None))\n",
        "print(np.min(a, axis=0))\n",
        "print(np.min(a, axis=1))"
      ],
      "metadata": {
        "id": "oqt0IOozd4yP"
      },
      "execution_count": null,
      "outputs": []
    },
    {
      "cell_type": "code",
      "source": [
        "print(np.max(a, axis=None))\n",
        "print(np.max(a, axis=0))\n",
        "print(np.max(a, axis=1))"
      ],
      "metadata": {
        "id": "-Dxj9e7Hd7LU"
      },
      "execution_count": null,
      "outputs": []
    },
    {
      "cell_type": "markdown",
      "source": [
        "## Datatypes"
      ],
      "metadata": {
        "id": "iQ3QDNXYEXFO"
      }
    },
    {
      "cell_type": "code",
      "source": [
        "x = np.array([1, 2])\n",
        "x"
      ],
      "metadata": {
        "id": "u1vptFMYeBbF"
      },
      "execution_count": null,
      "outputs": []
    },
    {
      "cell_type": "code",
      "source": [
        "# If no `.` are used, the elements in the array get allocated as 64 bit intergers.\n",
        "x.dtype"
      ],
      "metadata": {
        "id": "Rom-CeMeeEVz"
      },
      "execution_count": null,
      "outputs": []
    },
    {
      "cell_type": "code",
      "source": [
        "x = np.array([1., 2])\n",
        "x"
      ],
      "metadata": {
        "id": "aoKhzZcbeF4t"
      },
      "execution_count": null,
      "outputs": []
    },
    {
      "cell_type": "code",
      "source": [
        "# If at least one `.` is used, the elements in the array get allocated as 64 bit floats.\n",
        "x.dtype"
      ],
      "metadata": {
        "id": "2M7XUk9QebKd"
      },
      "execution_count": null,
      "outputs": []
    },
    {
      "cell_type": "code",
      "source": [
        "# We can also enforce the type\n"
      ],
      "metadata": {
        "id": "F-XKbSMRecjU"
      },
      "execution_count": null,
      "outputs": []
    },
    {
      "cell_type": "code",
      "source": [
        ""
      ],
      "metadata": {
        "id": "5zMux2bBe0_m"
      },
      "execution_count": null,
      "outputs": []
    },
    {
      "cell_type": "markdown",
      "source": [
        "## Copying"
      ],
      "metadata": {
        "id": "1eWSgrQlEZQU"
      }
    },
    {
      "cell_type": "code",
      "source": [
        "# Using `=` only results in copying by reference.\n"
      ],
      "metadata": {
        "id": "bJJ_WeXhPPSV"
      },
      "execution_count": null,
      "outputs": []
    },
    {
      "cell_type": "code",
      "source": [
        "\n",
        " # same as `a.copy()`\n"
      ],
      "metadata": {
        "id": "JtrLORNbPlVE"
      },
      "execution_count": null,
      "outputs": []
    },
    {
      "cell_type": "markdown",
      "source": [
        "## Generating arrays"
      ],
      "metadata": {
        "id": "r-lvnoD3Eah0"
      }
    },
    {
      "cell_type": "code",
      "source": [
        "# Generate zeros in a specified shape\n"
      ],
      "metadata": {
        "id": "pibKh0qfP85S"
      },
      "execution_count": null,
      "outputs": []
    },
    {
      "cell_type": "code",
      "source": [
        "# Same but for ones\n"
      ],
      "metadata": {
        "id": "Toc7OXuHQCCF"
      },
      "execution_count": null,
      "outputs": []
    },
    {
      "cell_type": "code",
      "source": [
        "# Note: The default value type is float!\n"
      ],
      "metadata": {
        "id": "phshhAWOQGaL"
      },
      "execution_count": null,
      "outputs": []
    },
    {
      "cell_type": "code",
      "source": [
        "# If you want to have an array of elements all with a certain value, use `np.full()`:\n"
      ],
      "metadata": {
        "id": "g94m8j2CQWfd"
      },
      "execution_count": null,
      "outputs": []
    },
    {
      "cell_type": "code",
      "source": [
        "# Generate the identity matrix\n"
      ],
      "metadata": {
        "id": "pftVxQ_PQpR2"
      },
      "execution_count": null,
      "outputs": []
    },
    {
      "cell_type": "code",
      "source": [
        ""
      ],
      "metadata": {
        "id": "kiGEB9oSQ8nL"
      },
      "execution_count": null,
      "outputs": []
    },
    {
      "cell_type": "code",
      "source": [
        "# Get an array of equally spaced numbers\n"
      ],
      "metadata": {
        "id": "Biog-u2XQ-V2"
      },
      "execution_count": null,
      "outputs": []
    },
    {
      "cell_type": "markdown",
      "source": [
        "## Random numbers"
      ],
      "metadata": {
        "id": "9XpIm0udEdTE"
      }
    },
    {
      "cell_type": "code",
      "source": [
        "# Sample numbers from the uniform distribution between 0 and 1.\n"
      ],
      "metadata": {
        "id": "OZa0a78QRZLy"
      },
      "execution_count": null,
      "outputs": []
    },
    {
      "cell_type": "code",
      "source": [
        "a = np.random.random(10000)\n",
        "print(np.mean(a)) # Mean is (a+b) / 2\n",
        "print(np.var(a)) # Variance is (b-a)^2 / 12\n",
        "print(1/12)"
      ],
      "metadata": {
        "id": "NF6iuLeTSx8V"
      },
      "execution_count": null,
      "outputs": []
    },
    {
      "cell_type": "code",
      "source": [
        "# Sample numbers from the standard normal distribution.\n"
      ],
      "metadata": {
        "id": "Ys3r9R95RjWI"
      },
      "execution_count": null,
      "outputs": []
    },
    {
      "cell_type": "code",
      "source": [
        "# Note: Each dimension has be a separate argument!\n",
        "# a = np.random.randn((5, 2)) # Will not work, because dimensions are a tuple.\n"
      ],
      "metadata": {
        "id": "t9SBw9oaSVf-"
      },
      "execution_count": null,
      "outputs": []
    },
    {
      "cell_type": "code",
      "source": [
        "a = np.random.randn(10000)\n",
        "print(np.mean(a))\n",
        "print(np.var(a))"
      ],
      "metadata": {
        "id": "jIynDETzSnCB"
      },
      "execution_count": null,
      "outputs": []
    },
    {
      "cell_type": "code",
      "source": [
        "# Generate a random integer\n",
        "# in the interval [0, 9]\n",
        "\n",
        "# in the interval [3, 9]\n",
        "\n",
        "# 3x3 matrix with values from the interval [42, 68]\n"
      ],
      "metadata": {
        "id": "QLyTlBrMTn_x"
      },
      "execution_count": null,
      "outputs": []
    },
    {
      "cell_type": "code",
      "source": [
        "# Sample random elements from an array\n",
        "# random elements with replacement from the interval [0, 4]\n",
        "\n",
        "# random elements with replacement from an array\n",
        "\n",
        "# random elements with replacement from a list\n"
      ],
      "metadata": {
        "id": "lLY2GY-WUGfV"
      },
      "execution_count": null,
      "outputs": []
    },
    {
      "cell_type": "markdown",
      "source": [
        "# Hello, Machine Learning!"
      ],
      "metadata": {
        "id": "_n9OpLZPy3lu"
      }
    },
    {
      "cell_type": "markdown",
      "source": [
        "Definition for **artificial intelligence**: Simulating human knowledge and decision making with computers."
      ],
      "metadata": {
        "id": "BFYTTlRFSBPT"
      }
    },
    {
      "cell_type": "markdown",
      "source": [
        "![Map of AI](https://raw.githubusercontent.com/SimeonHristov99/ML_21-22/f9550c86a953a71695695a06e582b3fdc576b9b3/Week_01%20-%20Hello,%20Python!/assets/map_of_ai.png)"
      ],
      "metadata": {
        "id": "VUXgtEAZnsP-"
      }
    },
    {
      "cell_type": "markdown",
      "source": [
        "Definitions for **machine learning**:\n",
        "\n",
        "*   The ability of machines to predict outcomes without being explicitly programmed to do so.\n",
        "*   Creating algorithms that let machines receive data and use this data to:\n",
        "    - make predictions\n",
        "    - analyse patterns\n",
        "    - give recommendations"
      ],
      "metadata": {
        "id": "CVySk-dxol8u"
      }
    },
    {
      "cell_type": "markdown",
      "source": [
        "![Map of AI](https://raw.githubusercontent.com/SimeonHristov99/ML_21-22/f9550c86a953a71695695a06e582b3fdc576b9b3/Week_01%20-%20Hello,%20Python!/assets/map_of_ml.png)"
      ],
      "metadata": {
        "id": "47i7wmJXoHfo"
      }
    },
    {
      "cell_type": "markdown",
      "source": [
        "### **The three major types of Machine Learning Problems**\n",
        "\n",
        "\n",
        "**Classification**: divide samples into predefined groups\n",
        "- email classification (spam vs non-spam) (binary classification)\n",
        "- animal classification (cat vs dog) (binary classification)\n",
        "- digit classification (multiclass classification)\n",
        "\n",
        "**Regression**: predict value of a given sample\n",
        "- house price prediction\n",
        "- likelihood of cancer\n",
        "- stock prediction\n",
        "\n",
        "**Clustering**: divide samples into groups (that are not predefined)\n",
        "- customer segmentation\n",
        "- anomaly detection"
      ],
      "metadata": {
        "id": "4EfKeE5Oia46"
      }
    },
    {
      "cell_type": "markdown",
      "source": [
        "Every type of problem has samples that can be represented as a collection of **features**:\n",
        "\n",
        "$$ sample1 = [feature1, feature2 .. featureN] $$\n",
        "$$ sample2 = [feature1, feature2 .. featureN] $$\n",
        "$$ sample3 = [feature1, feature2 .. featureN] $$\n",
        "$$ ... $$\n",
        "$$ sampleM = [feature1, feature2 .. featureN] $$\n",
        "\n",
        "**features** = independent quantities that represent a characteristic of sample data"
      ],
      "metadata": {
        "id": "kUDT7Xy8ikrP"
      }
    },
    {
      "cell_type": "markdown",
      "source": [
        "Example: **Predict House Price**\n",
        "\n",
        "- Goal: \\$300,000, \\$400,000, \\$401,000\n",
        "\n",
        "- What kind of problem is this? \n",
        "\n",
        "- Characteristics of House that determine Prices? Size, Location\n",
        "\n",
        "> \"30 sq. House in NYC\" -> [30 sq, NYC] -> [30, 100] (since all have to measure quantity)\n",
        "\n",
        "> \"50 sq. House in Kansas City\" -> [50, 74.04]\n",
        "\n",
        "- There are numerous features that can determine the price. It's up to us (and sometimes to the model) to figure out which are relevant and which not."
      ],
      "metadata": {
        "id": "8QHm2LGhixH3"
      }
    },
    {
      "cell_type": "markdown",
      "source": [
        "**Scaling values**\n",
        "\n",
        "> [No. of Squares] -> [0 - 70]\n",
        "\n",
        "> [zip code] -> [0 - 150]\n",
        "\n",
        "They are on different scales. We want all features to be weighted equally\n",
        "\n",
        "> **Problem**: Greater the variance, greater the importance.\n",
        "\n",
        "Solution: feature scaling to bring the values to a common range. Often the range is:\n",
        "- [0, 1] (x - xmin) / (xmax - xmin)\n",
        "- [-1, 1] (standard normal distribution).\n",
        "\n",
        "> [30, 100] -> [0.43, 0.67]\n",
        "\n",
        "> [50, 74.04] -> [0.71, 0.49]\n",
        "\n",
        "Perfect! Now we can send this data to a model!"
      ],
      "metadata": {
        "id": "KbxuIehJjwsR"
      }
    },
    {
      "cell_type": "markdown",
      "source": [
        "### **The three major types of Machine Learning Algorithms**\n",
        "\n",
        "**Supervised learning**: Making predictions using data with the outputs provided.\n",
        "    \n",
        "- Example: Is a given email \"spam\" or \"ham\"?\n",
        "- There is an outcome we are trying to predict\n",
        "- (input, correct output)\n",
        "\n",
        "**Unsupervised learning**: Extracting structure from data.\n",
        "\n",
        "- Example: Segment grocery store shoppers into clusters that exhibit similar behaviors\n",
        "- There is no \"right answer\" (there are no outputs).\n",
        "- (input, ?)\n",
        "\n",
        "**Reinforcement / Semi-supervised learning**: Learning through trial and error.\n",
        "\n",
        "- (input, some output, grade for this output)\n",
        "- the model makes an action\n",
        "- we tell it how `good` that action is\n",
        "- main application is playing games"
      ],
      "metadata": {
        "id": "ModMdLErlJyS"
      }
    },
    {
      "cell_type": "markdown",
      "source": [
        "**Supervised Learning**\n",
        "\n",
        "- Solves Classification and Regression problems\n",
        "- in regression: labels are House Prices\n",
        "- in classification: labels are categories (dogs, cats)\n",
        "\n",
        "\n",
        "    here's a set of features for sample house 1. here's its price. learn it\n",
        "    here's a set of features for sample house 2. here's its price. learn it\n",
        "    here's a set of features for sample house 3. here's its price. learn it\n",
        "    ...\n",
        "\n",
        "After the model has seen for ex. 1000 samples, it should be able to predict (give a good estimate for) the price for an unseen house.\n",
        "\n",
        "Possible algorithms: Logistic regression, Linear regression, KNN, Decision Trees, Random Forests, SVMs, Neural Networks, etc"
      ],
      "metadata": {
        "id": "l59D2X9hmPLP"
      }
    },
    {
      "cell_type": "markdown",
      "source": [
        "The primary goal of supervised learning is to build a model that \"generalizes\", i.e. it accurately predicts the **future** rather than the **past**!"
      ],
      "metadata": {
        "id": "ToGk01xuqy5h"
      }
    },
    {
      "cell_type": "markdown",
      "source": [
        "**Unsupervised Learning**\n",
        "\n",
        "- Solves Clustering problems\n",
        "- Categorize 1000 Articles by topic\n",
        "- Hypothetical labels: sports, music, politics, ...\n",
        "- features: frequency of every word (each constituting a feature)\n",
        "  - each sample will hold how many times we've seen every word\n",
        "- 1000 articles, 100,000 unique total words. Thus, 100,000 features\n",
        "\n",
        "- in the ML world these vectors represent points in a high dimensional plane. The model plots them virtually and then groups points that are close to each other. They are considered to be of the same topic.\n",
        "\n",
        "- Possible algorithms: Hierarchical Clustering, K-means, PCA, etc"
      ],
      "metadata": {
        "id": "rbn13NTGmtAi"
      }
    },
    {
      "cell_type": "markdown",
      "source": [
        "## Questions about Machine Learning\n",
        "\n",
        "- How do I choose **which attributes** of my data to include in the model?\n",
        "- How do I choose **which model** to use?\n",
        "- How do I **optimize** this model for best performance?\n",
        "- How do I ensure that I'm building a model that will **generalize** to unseen data?\n",
        "- Can I **estimate** how well my model is likely to perform on unseen data?"
      ],
      "metadata": {
        "id": "pGWevW3trQ-t"
      }
    },
    {
      "cell_type": "markdown",
      "source": [
        "## Topics which you can explore in case you want to dive deeper\n",
        "\n",
        "### 1.   How AI is connected to business\n",
        "\n",
        "![ai_business](https://raw.githubusercontent.com/SimeonHristov99/ML_21-22/main/Week_02%20-%20Hello%2C%20Numpy!/assets/context_of_ai.png)\n",
        "\n",
        "### 2.   ML can be regarded as part of another field - Data Science\n",
        "\n",
        "![ds_ml](https://raw.githubusercontent.com/SimeonHristov99/ML_21-22/main/Week_02%20-%20Hello%2C%20Numpy!/assets/context_ml_ds.png)"
      ],
      "metadata": {
        "id": "Sv1_322KWj1Y"
      }
    },
    {
      "cell_type": "markdown",
      "source": [
        "# Coding the building block of neural networks - the Perceptron!"
      ],
      "metadata": {
        "id": "t6XVuau3uGES"
      }
    },
    {
      "cell_type": "markdown",
      "source": [
        "![neuron](https://raw.githubusercontent.com/SimeonHristov99/ML_21-22/main/Week_02%20-%20Hello%2C%20Numpy!/assets/neuron.png)"
      ],
      "metadata": {
        "id": "xCRW5lq7wcYV"
      }
    },
    {
      "cell_type": "markdown",
      "source": [
        "What's the purpose of weights and biases? Let's check it out with a concrete example [in Desmos](https://www.desmos.com/calculator)."
      ],
      "metadata": {
        "id": "drzZ1-C45hTW"
      }
    },
    {
      "cell_type": "code",
      "source": [
        "# Model 1 neuron with 3 weights.\n",
        "inputs = [1.2, 5.1, 2.1]\n",
        "weights = [3.1, 2.1, 8.7]\n",
        "bias = 3"
      ],
      "metadata": {
        "id": "eMGNRBGiuIf5"
      },
      "execution_count": null,
      "outputs": []
    },
    {
      "cell_type": "code",
      "source": [
        ""
      ],
      "metadata": {
        "id": "NjOXu8G9vqB2"
      },
      "execution_count": null,
      "outputs": []
    },
    {
      "cell_type": "markdown",
      "source": [
        "![3 neurons](https://raw.githubusercontent.com/SimeonHristov99/ML_21-22/main/Week_02%20-%20Hello%2C%20Numpy!/assets/3neurons.png)"
      ],
      "metadata": {
        "id": "I0NyAP5AW1X5"
      }
    },
    {
      "cell_type": "code",
      "source": [
        "# Model 3 neurons with 4 weights.\n",
        "inputs = [1, 2, 3, 2.5]\n",
        "\n",
        "weights1 = [0.2, 0.8, -0.5, 1.0]\n",
        "weights2 = [0.5, -0.91, 0.26, -0.5]\n",
        "weights3 = [-0.26, -0.27, 0.17, 0.87]\n",
        "\n",
        "bias1 = 2\n",
        "bias2 = 3\n",
        "bias3 = 0.5"
      ],
      "metadata": {
        "id": "fHz4KeRAwLvR"
      },
      "execution_count": null,
      "outputs": []
    },
    {
      "cell_type": "code",
      "source": [
        ""
      ],
      "metadata": {
        "id": "xd742wz7V7lG"
      },
      "execution_count": null,
      "outputs": []
    },
    {
      "cell_type": "markdown",
      "source": [
        "How would you change the output?\n",
        "  - can you change the input values?\n",
        "  - can you change the weight values?\n",
        "  - can you change the bias values?"
      ],
      "metadata": {
        "id": "01QkQZDDzXxq"
      }
    },
    {
      "cell_type": "markdown",
      "source": [
        "Optimize (more of a convenience for programmer, but still slow)"
      ],
      "metadata": {
        "id": "GdjKrSuo0bIg"
      }
    },
    {
      "cell_type": "code",
      "source": [
        "weights = [\n",
        " [0.2, 0.8, -0.5, 1.0],\n",
        " [0.5, -0.91, 0.26, -0.5],\n",
        " [-0.26, -0.27, 0.17, 0.87]\n",
        "]\n",
        "\n",
        "biases = [2, 3, 0.5]"
      ],
      "metadata": {
        "id": "nbmR3zlx0cNM"
      },
      "execution_count": null,
      "outputs": []
    },
    {
      "cell_type": "code",
      "source": [
        ""
      ],
      "metadata": {
        "id": "RkaQ-F1u0gzH"
      },
      "execution_count": null,
      "outputs": []
    },
    {
      "cell_type": "markdown",
      "source": [
        "Really optimize (convenience for programmer and fast)"
      ],
      "metadata": {
        "id": "5uV_Gq-iz-dV"
      }
    },
    {
      "cell_type": "code",
      "source": [
        "inputs = np.array([1, 2, 3, 2.5])\n",
        "weights = np.array([\n",
        " [0.2, 0.8, -0.5, 1.0],\n",
        " [0.5, -0.91, 0.26, -0.5],\n",
        " [-0.26, -0.27, 0.17, 0.87]\n",
        "])\n",
        "biases = np.array([2, 3, 0.5])"
      ],
      "metadata": {
        "id": "oFin3kOIzdkc"
      },
      "execution_count": null,
      "outputs": []
    },
    {
      "cell_type": "code",
      "source": [
        ""
      ],
      "metadata": {
        "id": "ASz-VnE83jow"
      },
      "execution_count": null,
      "outputs": []
    },
    {
      "cell_type": "markdown",
      "source": [
        "### **Activation functions**"
      ],
      "metadata": {
        "id": "hTxxNcU_7gD_"
      }
    },
    {
      "cell_type": "markdown",
      "source": [
        "$$\\bf z = weights * input + bias$$\n",
        "\n",
        "**Unit step function**\n",
        "\n",
        "$$g(z) =\n",
        "\\begin{cases}\n",
        "    1,& g(z) > \\theta\\\\\n",
        "    0,& \\text{otherwise}\n",
        "\\end{cases}\n",
        "$$\n",
        "\n",
        "**Sigmoid**\n",
        "$$g(z) = \\frac{1}{1 + e^{-\\bf z}}$$"
      ],
      "metadata": {
        "id": "uizNvmdA7pqc"
      }
    },
    {
      "cell_type": "markdown",
      "source": [
        "### **Performance Metric**\n",
        "\n",
        "**Accuracy**: Check how many (the percentage) of the labels got predicted correctly."
      ],
      "metadata": {
        "id": "8Dp1TrvaTKXj"
      }
    },
    {
      "cell_type": "code",
      "source": [
        "def accuracy(y_true, y_pred):\n",
        "  pass"
      ],
      "metadata": {
        "id": "uGibovPk7ozI"
      },
      "execution_count": 2,
      "outputs": []
    },
    {
      "cell_type": "code",
      "source": [
        ""
      ],
      "metadata": {
        "id": "8QCWhISgbuvU"
      },
      "execution_count": null,
      "outputs": []
    },
    {
      "cell_type": "code",
      "source": [
        "import matplotlib.pyplot as plt\n",
        "from sklearn import datasets\n",
        "from sklearn.model_selection import train_test_split\n",
        "\n",
        "X, y = datasets.make_blobs(\n",
        "    n_samples=150, n_features=2, centers=2, cluster_std=1.05, random_state=2\n",
        ")\n",
        "X_train, X_test, y_train, y_test = train_test_split(\n",
        "    X, y, test_size=0.2, random_state=123\n",
        ")\n",
        "\n",
        "p = Perceptron()\n",
        "p.fit(X_train, y_train)\n",
        "predictions = p.predict(X_test)\n",
        "\n",
        "print(\"Training classification accuracy\", accuracy(y_train, p.predict(X_train)))\n",
        "print(\"Testing classification accuracy\", accuracy(y_test, predictions))"
      ],
      "metadata": {
        "id": "MgTKTXB-CQqX"
      },
      "execution_count": null,
      "outputs": []
    },
    {
      "cell_type": "code",
      "source": [
        "plt.figure(figsize=(12,7))\n",
        "\n",
        "# Plot the two classes\n",
        "plt.scatter(X_train[:, 0], X_train[:, 1], c=y_train)\n",
        "\n",
        "# Plot the decision boundary\n",
        "\n",
        "# How to calculate the slope and intercept with given three weights?\n",
        "\n",
        "# Plug in the weights and bias into the standard form equation of a line:\n",
        "# `w1x + w2y + b = 0`\n",
        "\n",
        "# Solve for x == 0 and y == 0, so as to find two points on the line\n",
        "# if x == 0: x_intercept = (0, -b / w2)\n",
        "# if y == 0: y_intercept = (-b / w1, 0)\n",
        "\n",
        "# Solve for the slope (y=mx+c, m is slope, c is intercept):\n",
        "# m = -(b / w2) / (b / w1)\n",
        "\n",
        "# Fill in the slope-intercept form equation:\n",
        "# y = (-(b / w2) / (b / w1))x + (-b / w2)\n",
        "for i in np.linspace(np.min(X_train[:,:1]),np.max(X_train[:,:1])):\n",
        "    slope = -(p.bias/p.weights[1])/(p.bias/p.weights[0])  \n",
        "    intercept = -p.bias/p.weights[1]\n",
        "\n",
        "    y = slope*i + intercept\n",
        "    plt.plot(i, y,'ko')"
      ],
      "metadata": {
        "id": "BcdOxE-luTIE"
      },
      "execution_count": null,
      "outputs": []
    },
    {
      "cell_type": "code",
      "source": [
        "plt.figure(figsize=(12,7))\n",
        "\n",
        "# Plot the two classes\n",
        "plt.scatter(X_test[:, 0], X_test[:, 1], c=y_test)\n",
        "\n",
        "# Plot the decision boundary\n",
        "for i in np.linspace(np.min(X_test[:,:1]),np.max(X_test[:,:1])):\n",
        "    slope = -(p.bias/p.weights[1])/(p.bias/p.weights[0])  \n",
        "    intercept = -p.bias/p.weights[1]\n",
        "\n",
        "    y = slope*i + intercept\n",
        "    plt.plot(i, y,'ko')"
      ],
      "metadata": {
        "id": "jMKyKuz7H_Xx"
      },
      "execution_count": null,
      "outputs": []
    },
    {
      "cell_type": "markdown",
      "source": [
        "# For Home"
      ],
      "metadata": {
        "id": "YWK7K8DkC80n"
      }
    },
    {
      "cell_type": "markdown",
      "source": [
        "## Part 1: NumPy exercises"
      ],
      "metadata": {
        "id": "HNVQ5G80xrmz"
      }
    },
    {
      "cell_type": "code",
      "source": [
        "# 1. Create a vector of 10 zeros but the fifth value of which is 1\n"
      ],
      "metadata": {
        "id": "9Bmebg-UsWyc"
      },
      "execution_count": null,
      "outputs": []
    },
    {
      "cell_type": "code",
      "source": [
        "# 2. Create a vector with values ranging from 10 to 49 \n"
      ],
      "metadata": {
        "id": "VPZryFhnwUh3"
      },
      "execution_count": null,
      "outputs": []
    },
    {
      "cell_type": "code",
      "source": [
        "# 3. Reverse an array in TWO ways:\n",
        "# using `the Python way`\n",
        "# and using a NumPy function\n"
      ],
      "metadata": {
        "id": "5cBSp1btwXHS"
      },
      "execution_count": null,
      "outputs": []
    },
    {
      "cell_type": "code",
      "source": [
        "# 4. Create a 3x3 matrix with the values from 0 to 8\n"
      ],
      "metadata": {
        "id": "a3v0vtZ3wZFm"
      },
      "execution_count": null,
      "outputs": []
    },
    {
      "cell_type": "code",
      "source": [
        "# 5. Find indices of non-zero elements from a = np.array([1,2,0,0,4,0])\n",
        "# Output should be: array([0, 1, 4])\n"
      ],
      "metadata": {
        "id": "qgMOUPXlwa3b"
      },
      "execution_count": null,
      "outputs": []
    },
    {
      "cell_type": "code",
      "source": [
        "# 6. Create a 3x3 identity matrix\n"
      ],
      "metadata": {
        "id": "I8ss7fE0wcoD"
      },
      "execution_count": null,
      "outputs": []
    },
    {
      "cell_type": "code",
      "source": [
        "# 7. Create a 3x3x3 array with random values drawn from the uniform distribution\n"
      ],
      "metadata": {
        "id": "ytLLwhbuweQ6"
      },
      "execution_count": null,
      "outputs": []
    },
    {
      "cell_type": "code",
      "source": [
        "# 8. Create a 10x10 array with random values and find the minimum and maximum values\n",
        "# The distribution does not matter.\n"
      ],
      "metadata": {
        "id": "sBYhtq6rwgDK"
      },
      "execution_count": null,
      "outputs": []
    },
    {
      "cell_type": "code",
      "source": [
        "# 9. Create a random array of size 30 and find the mean value\n"
      ],
      "metadata": {
        "id": "Fjux7FP6wiLG"
      },
      "execution_count": null,
      "outputs": []
    },
    {
      "cell_type": "code",
      "source": [
        "# 10. Create a 5x5 array with 1 on the border and 0 inside\n"
      ],
      "metadata": {
        "id": "VBE0Np1Cwj5P"
      },
      "execution_count": null,
      "outputs": []
    },
    {
      "cell_type": "code",
      "source": [
        "# 11. Add a border filled with 0's on the two sides of an array.\n",
        "# Result should be: array([0, 1, 2, 3, 0])\n",
        "# Hint: np.pad\n"
      ],
      "metadata": {
        "id": "ZQSrAw1zwllw"
      },
      "execution_count": null,
      "outputs": []
    },
    {
      "cell_type": "code",
      "source": [
        "# 12. Create a 5x5 matrix with values 1,2,3,4 just below the diagonal\n",
        "# Expected result:\n",
        "# array([[0, 0, 0, 0, 0],\n",
        "#        [1, 0, 0, 0, 0],\n",
        "#        [0, 2, 0, 0, 0],\n",
        "#        [0, 0, 3, 0, 0],\n",
        "#        [0, 0, 0, 4, 0]])\n",
        "# Hint: np.diag\n"
      ],
      "metadata": {
        "id": "JGZChipEwnmr"
      },
      "execution_count": null,
      "outputs": []
    },
    {
      "cell_type": "code",
      "source": [
        "# 13. Create and multiply a 5x3 matrix by a 3x2 matrix (real matrix product)\n",
        "# The matrices can hold random values or you can create them manually.\n"
      ],
      "metadata": {
        "id": "hNFX0eGVwtj_"
      },
      "execution_count": null,
      "outputs": []
    },
    {
      "cell_type": "code",
      "source": [
        "# 14. Create a 1D array of random integers between 0 and 9\n",
        "# negate all elements which are between 3 and 8.\n"
      ],
      "metadata": {
        "id": "M9IQNbmJwzah"
      },
      "execution_count": null,
      "outputs": []
    },
    {
      "cell_type": "code",
      "source": [
        "# 15. Create a random array of size 10 and sort it"
      ],
      "metadata": {
        "id": "ufEMUrNmxPRX"
      },
      "execution_count": null,
      "outputs": []
    },
    {
      "cell_type": "code",
      "source": [
        "# 16. Create random vector of size 10 and replace the maximum value by 0\n"
      ],
      "metadata": {
        "id": "nSldPimWxVBz"
      },
      "execution_count": null,
      "outputs": []
    },
    {
      "cell_type": "markdown",
      "source": [
        "## Part 2: KNN Implementation using efficient NumPy operations"
      ],
      "metadata": {
        "id": "dv4PIlV8xy1I"
      }
    },
    {
      "cell_type": "code",
      "source": [
        "# Define the `KNN` class here"
      ],
      "metadata": {
        "id": "p0t5lWdlC-ZQ"
      },
      "execution_count": 3,
      "outputs": []
    },
    {
      "cell_type": "code",
      "source": [
        "import matplotlib.pyplot as plt\n",
        "from sklearn import datasets\n",
        "from sklearn.model_selection import train_test_split\n",
        "\n",
        "def accuracy(y_true, y_pred):\n",
        "  accuracy = np.sum(y_true == y_pred) / len(y_true)\n",
        "  return accuracy\n",
        "\n",
        "X, y = datasets.make_blobs(\n",
        "    n_samples=150, n_features=2, centers=2, cluster_std=1.05, random_state=2\n",
        ")\n",
        "X_train, X_test, y_train, y_test = train_test_split(\n",
        "    X, y, test_size=0.2, random_state=123\n",
        ")"
      ],
      "metadata": {
        "id": "P1yVSDYGZJrG"
      },
      "execution_count": 4,
      "outputs": []
    },
    {
      "cell_type": "code",
      "source": [
        "X_train[:5]"
      ],
      "metadata": {
        "id": "8EqYuI2xZgww"
      },
      "execution_count": null,
      "outputs": []
    },
    {
      "cell_type": "code",
      "source": [
        "y_train[:5]"
      ],
      "metadata": {
        "id": "_CtMBmHIZh3A"
      },
      "execution_count": null,
      "outputs": []
    },
    {
      "cell_type": "code",
      "source": [
        "knn = KNN(k=2)\n",
        "knn.fit(X_train, y_train)\n",
        "predictions = knn.predict(X_test)\n",
        "\n",
        "print(\"Training classification accuracy\", accuracy(y_train, knn.predict(X_train)))\n",
        "print(\"Testing classification accuracy\", accuracy(y_test, predictions))"
      ],
      "metadata": {
        "colab": {
          "base_uri": "https://localhost:8080/"
        },
        "id": "s2SilPICS83y",
        "outputId": "afaa0c67-1eb8-40b8-aee0-51e6ae5936a0"
      },
      "execution_count": 7,
      "outputs": [
        {
          "output_type": "stream",
          "name": "stdout",
          "text": [
            "Training classification accuracy 1.0\n",
            "Testing classification accuracy 1.0\n"
          ]
        }
      ]
    },
    {
      "cell_type": "markdown",
      "source": [
        "### Be patient - the following cell will take some time to run."
      ],
      "metadata": {
        "id": "NbHL6LRZcZbI"
      }
    },
    {
      "cell_type": "code",
      "source": [
        "h = .02 # step size in the mesh\n",
        "\n",
        "# Plot the decision boundary. For that, we will asign a color to each\n",
        "# point in the mesh [x_min, m_max]x[y_min, y_max].\n",
        "x_min, x_max = X_test[:,0].min() - .5, X_test[:,0].max() + .5\n",
        "y_min, y_max = X_test[:,1].min() - .5, X_test[:,1].max() + .5\n",
        "xx, yy = np.meshgrid(np.arange(x_min, x_max, h), np.arange(y_min, y_max, h))\n",
        "Z = knn.predict(np.c_[xx.ravel(), yy.ravel()])\n",
        "\n",
        "# Put the result into a color plot\n",
        "Z = Z.reshape(xx.shape)\n",
        "plt.figure(1, figsize=(12, 7))\n",
        "plt.pcolormesh(xx, yy, Z, cmap=plt.cm.Pastel1)\n",
        "\n",
        "# Plot also the training points\n",
        "plt.scatter(X_test[:,0], X_test[:,1],c=y_test, cmap=plt.cm.Dark2)\n",
        "\n",
        "plt.xlim(xx.min(), xx.max())\n",
        "plt.ylim(yy.min(), yy.max())\n",
        "plt.xticks(())\n",
        "plt.yticks(())\n",
        "plt.tight_layout()"
      ],
      "metadata": {
        "colab": {
          "base_uri": "https://localhost:8080/",
          "height": 513
        },
        "id": "oBtCf1M1T2TC",
        "outputId": "557ae135-8e82-452c-b806-c3ffcdd4b22d"
      },
      "execution_count": 8,
      "outputs": [
        {
          "output_type": "display_data",
          "data": {
            "image/png": "[encoded data removed]",
            "text/plain": [
              "<Figure size 864x504 with 1 Axes>"
            ]
          },
          "metadata": {}
        }
      ]
    }
  ]
}